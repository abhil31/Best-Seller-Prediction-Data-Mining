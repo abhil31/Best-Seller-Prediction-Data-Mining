{
 "cells": [
  {
   "cell_type": "markdown",
   "id": "d516a5ea",
   "metadata": {},
   "source": [
    "# Amazon Best seller prediction"
   ]
  },
  {
   "cell_type": "markdown",
   "id": "da9f8068",
   "metadata": {},
   "source": [
    "### Loading the Amazon Data from Kaggle @ https://www.kaggle.com/datasets/asaniczka/usa-optimal-product-price-prediction/"
   ]
  },
  {
   "cell_type": "code",
   "execution_count": 220,
   "id": "60565f3e",
   "metadata": {},
   "outputs": [],
   "source": [
    "#Loading all the required libraries\n",
    "import os\n",
    "import calendar\n",
    "from pathlib import Path # to interact with file system.\n",
    "import numpy as np # for working with arrays.\n",
    "import networkx as nx\n",
    "import pandas as pd # for working with data frames (tables).\n",
    "from pandas.plotting import scatter_matrix, parallel_coordinates\n",
    "import seaborn as sns # Making statistical graphs on top of what matplot can do \n",
    "from sklearn import preprocessing\n",
    "import matplotlib.pylab as plt # %matplotlib inline renders the figure in a notebook\n",
    "\n",
    "from sklearn.model_selection import train_test_split\n",
    "from sklearn.linear_model import LinearRegression\n",
    "import statsmodels.api as sm\n",
    "\n",
    "\n",
    "import dmba\n",
    "from dmba import regressionSummary, exhaustive_search\n",
    "from dmba import backward_elimination, forward_selection, stepwise_selection\n",
    "from dmba import adjusted_r2_score, AIC_score, BIC_score\n",
    "\n",
    "from sklearn.metrics import accuracy_score\n",
    "from sklearn.neighbors import NearestNeighbors, KNeighborsClassifier\n",
    "from sklearn.tree import DecisionTreeClassifier, DecisionTreeRegressor\n",
    "from sklearn.ensemble import RandomForestClassifier, GradientBoostingClassifier\n",
    "from sklearn.model_selection import train_test_split, cross_val_score, GridSearchCV\n",
    "from dmba import plotDecisionTree, classificationSummary, regressionSummary\n",
    "from sklearn.linear_model import LogisticRegression, LogisticRegressionCV\n",
    "#from mord import LogisticIT #If you're looking for ordinal multi-class (more than 2 levels)\n",
    "\n",
    "from dmba import classificationSummary, gainsChart, liftChart\n",
    "from dmba.metric import AIC_score\n",
    "from scipy import stats\n",
    "import math\n",
    "from sklearn.metrics import pairwise\n",
    "from scipy.cluster.hierarchy import dendrogram, linkage, fcluster\n",
    "from sklearn.cluster import KMeans\n",
    "from pandas.plotting import parallel_coordinates\n",
    "from mlxtend.frequent_patterns import apriori\n",
    "from mlxtend.frequent_patterns import association_rules\n",
    "\n",
    "%matplotlib inline\n"
   ]
  },
  {
   "cell_type": "markdown",
   "id": "039079d2",
   "metadata": {},
   "source": [
    "### Loading the data to amz_df dataframe"
   ]
  },
  {
   "cell_type": "code",
   "execution_count": 221,
   "id": "1a7590fc",
   "metadata": {},
   "outputs": [
    {
     "data": {
      "text/html": [
       "<div>\n",
       "<style scoped>\n",
       "    .dataframe tbody tr th:only-of-type {\n",
       "        vertical-align: middle;\n",
       "    }\n",
       "\n",
       "    .dataframe tbody tr th {\n",
       "        vertical-align: top;\n",
       "    }\n",
       "\n",
       "    .dataframe thead th {\n",
       "        text-align: right;\n",
       "    }\n",
       "</style>\n",
       "<table border=\"1\" class=\"dataframe\">\n",
       "  <thead>\n",
       "    <tr style=\"text-align: right;\">\n",
       "      <th></th>\n",
       "      <th>uid</th>\n",
       "      <th>asin</th>\n",
       "      <th>title</th>\n",
       "      <th>stars</th>\n",
       "      <th>reviews</th>\n",
       "      <th>price</th>\n",
       "      <th>category</th>\n",
       "      <th>isBestSeller</th>\n",
       "      <th>boughtInLastMonth</th>\n",
       "    </tr>\n",
       "  </thead>\n",
       "  <tbody>\n",
       "    <tr>\n",
       "      <th>0</th>\n",
       "      <td>1</td>\n",
       "      <td>B014TMV5YE</td>\n",
       "      <td>Sion Softside Expandable Roller Luggage, Black...</td>\n",
       "      <td>4.5</td>\n",
       "      <td>0</td>\n",
       "      <td>139.99</td>\n",
       "      <td>Suitcases</td>\n",
       "      <td>False</td>\n",
       "      <td>2000</td>\n",
       "    </tr>\n",
       "    <tr>\n",
       "      <th>1</th>\n",
       "      <td>2</td>\n",
       "      <td>B07GDLCQXV</td>\n",
       "      <td>Luggage Sets Expandable PC+ABS Durable Suitcas...</td>\n",
       "      <td>4.5</td>\n",
       "      <td>0</td>\n",
       "      <td>169.99</td>\n",
       "      <td>Suitcases</td>\n",
       "      <td>False</td>\n",
       "      <td>1000</td>\n",
       "    </tr>\n",
       "    <tr>\n",
       "      <th>2</th>\n",
       "      <td>3</td>\n",
       "      <td>B07XSCCZYG</td>\n",
       "      <td>Platinum Elite Softside Expandable Checked Lug...</td>\n",
       "      <td>4.6</td>\n",
       "      <td>0</td>\n",
       "      <td>365.49</td>\n",
       "      <td>Suitcases</td>\n",
       "      <td>False</td>\n",
       "      <td>300</td>\n",
       "    </tr>\n",
       "    <tr>\n",
       "      <th>3</th>\n",
       "      <td>4</td>\n",
       "      <td>B08MVFKGJM</td>\n",
       "      <td>Freeform Hardside Expandable with Double Spinn...</td>\n",
       "      <td>4.6</td>\n",
       "      <td>0</td>\n",
       "      <td>291.59</td>\n",
       "      <td>Suitcases</td>\n",
       "      <td>False</td>\n",
       "      <td>400</td>\n",
       "    </tr>\n",
       "    <tr>\n",
       "      <th>4</th>\n",
       "      <td>5</td>\n",
       "      <td>B01DJLKZBA</td>\n",
       "      <td>Winfield 2 Hardside Expandable Luggage with Sp...</td>\n",
       "      <td>4.5</td>\n",
       "      <td>0</td>\n",
       "      <td>174.99</td>\n",
       "      <td>Suitcases</td>\n",
       "      <td>False</td>\n",
       "      <td>400</td>\n",
       "    </tr>\n",
       "  </tbody>\n",
       "</table>\n",
       "</div>"
      ],
      "text/plain": [
       "   uid        asin                                              title  stars  \\\n",
       "0    1  B014TMV5YE  Sion Softside Expandable Roller Luggage, Black...    4.5   \n",
       "1    2  B07GDLCQXV  Luggage Sets Expandable PC+ABS Durable Suitcas...    4.5   \n",
       "2    3  B07XSCCZYG  Platinum Elite Softside Expandable Checked Lug...    4.6   \n",
       "3    4  B08MVFKGJM  Freeform Hardside Expandable with Double Spinn...    4.6   \n",
       "4    5  B01DJLKZBA  Winfield 2 Hardside Expandable Luggage with Sp...    4.5   \n",
       "\n",
       "   reviews   price   category  isBestSeller  boughtInLastMonth  \n",
       "0        0  139.99  Suitcases         False               2000  \n",
       "1        0  169.99  Suitcases         False               1000  \n",
       "2        0  365.49  Suitcases         False                300  \n",
       "3        0  291.59  Suitcases         False                400  \n",
       "4        0  174.99  Suitcases         False                400  "
      ]
     },
     "execution_count": 221,
     "metadata": {},
     "output_type": "execute_result"
    }
   ],
   "source": [
    "amz_df = pd.read_csv('amazon_price.csv')\n",
    "amz_df.head()"
   ]
  },
  {
   "cell_type": "code",
   "execution_count": 222,
   "id": "c88dd353",
   "metadata": {},
   "outputs": [
    {
     "name": "stdout",
     "output_type": "stream",
     "text": [
      "<class 'pandas.core.frame.DataFrame'>\n",
      "RangeIndex: 1735414 entries, 0 to 1735413\n",
      "Data columns (total 9 columns):\n",
      " #   Column             Dtype  \n",
      "---  ------             -----  \n",
      " 0   uid                int64  \n",
      " 1   asin               object \n",
      " 2   title              object \n",
      " 3   stars              float64\n",
      " 4   reviews            int64  \n",
      " 5   price              float64\n",
      " 6   category           object \n",
      " 7   isBestSeller       bool   \n",
      " 8   boughtInLastMonth  int64  \n",
      "dtypes: bool(1), float64(2), int64(3), object(3)\n",
      "memory usage: 107.6+ MB\n"
     ]
    }
   ],
   "source": [
    "amz_df.info()"
   ]
  },
  {
   "cell_type": "code",
   "execution_count": 223,
   "id": "089b42ab",
   "metadata": {},
   "outputs": [
    {
     "data": {
      "text/plain": [
       "(1735414, 9)"
      ]
     },
     "execution_count": 223,
     "metadata": {},
     "output_type": "execute_result"
    }
   ],
   "source": [
    "amz_df.shape"
   ]
  },
  {
   "cell_type": "markdown",
   "id": "4dba7d61",
   "metadata": {},
   "source": [
    "###  Dropping uid,asin as they don't have any significance in analysis"
   ]
  },
  {
   "cell_type": "code",
   "execution_count": 224,
   "id": "dd5aa954",
   "metadata": {},
   "outputs": [
    {
     "data": {
      "text/html": [
       "<div>\n",
       "<style scoped>\n",
       "    .dataframe tbody tr th:only-of-type {\n",
       "        vertical-align: middle;\n",
       "    }\n",
       "\n",
       "    .dataframe tbody tr th {\n",
       "        vertical-align: top;\n",
       "    }\n",
       "\n",
       "    .dataframe thead th {\n",
       "        text-align: right;\n",
       "    }\n",
       "</style>\n",
       "<table border=\"1\" class=\"dataframe\">\n",
       "  <thead>\n",
       "    <tr style=\"text-align: right;\">\n",
       "      <th></th>\n",
       "      <th>stars</th>\n",
       "      <th>reviews</th>\n",
       "      <th>price</th>\n",
       "      <th>category</th>\n",
       "      <th>isBestSeller</th>\n",
       "      <th>boughtInLastMonth</th>\n",
       "    </tr>\n",
       "  </thead>\n",
       "  <tbody>\n",
       "    <tr>\n",
       "      <th>0</th>\n",
       "      <td>4.5</td>\n",
       "      <td>0</td>\n",
       "      <td>139.99</td>\n",
       "      <td>Suitcases</td>\n",
       "      <td>False</td>\n",
       "      <td>2000</td>\n",
       "    </tr>\n",
       "    <tr>\n",
       "      <th>1</th>\n",
       "      <td>4.5</td>\n",
       "      <td>0</td>\n",
       "      <td>169.99</td>\n",
       "      <td>Suitcases</td>\n",
       "      <td>False</td>\n",
       "      <td>1000</td>\n",
       "    </tr>\n",
       "    <tr>\n",
       "      <th>2</th>\n",
       "      <td>4.6</td>\n",
       "      <td>0</td>\n",
       "      <td>365.49</td>\n",
       "      <td>Suitcases</td>\n",
       "      <td>False</td>\n",
       "      <td>300</td>\n",
       "    </tr>\n",
       "    <tr>\n",
       "      <th>3</th>\n",
       "      <td>4.6</td>\n",
       "      <td>0</td>\n",
       "      <td>291.59</td>\n",
       "      <td>Suitcases</td>\n",
       "      <td>False</td>\n",
       "      <td>400</td>\n",
       "    </tr>\n",
       "    <tr>\n",
       "      <th>4</th>\n",
       "      <td>4.5</td>\n",
       "      <td>0</td>\n",
       "      <td>174.99</td>\n",
       "      <td>Suitcases</td>\n",
       "      <td>False</td>\n",
       "      <td>400</td>\n",
       "    </tr>\n",
       "  </tbody>\n",
       "</table>\n",
       "</div>"
      ],
      "text/plain": [
       "   stars  reviews   price   category  isBestSeller  boughtInLastMonth\n",
       "0    4.5        0  139.99  Suitcases         False               2000\n",
       "1    4.5        0  169.99  Suitcases         False               1000\n",
       "2    4.6        0  365.49  Suitcases         False                300\n",
       "3    4.6        0  291.59  Suitcases         False                400\n",
       "4    4.5        0  174.99  Suitcases         False                400"
      ]
     },
     "execution_count": 224,
     "metadata": {},
     "output_type": "execute_result"
    }
   ],
   "source": [
    "amazon_df=amz_df.drop(['uid','asin','title'],axis=1)\n",
    "amazon_df.head()"
   ]
  },
  {
   "cell_type": "markdown",
   "id": "fe745aaf",
   "metadata": {},
   "source": [
    "### Number of categories and their types"
   ]
  },
  {
   "cell_type": "code",
   "execution_count": 225,
   "id": "e4a4e257",
   "metadata": {},
   "outputs": [
    {
     "data": {
      "text/plain": [
       "236"
      ]
     },
     "execution_count": 225,
     "metadata": {},
     "output_type": "execute_result"
    }
   ],
   "source": [
    "cat_number = amazon_df['category'].nunique()\n",
    "cat_number"
   ]
  },
  {
   "cell_type": "code",
   "execution_count": 226,
   "id": "1605535a",
   "metadata": {},
   "outputs": [
    {
     "data": {
      "text/plain": [
       "array(['Suitcases', \"Men's Clothing\", 'Consoles & Accessories',\n",
       "       \"Men's Shoes\", \"Men's Accessories\", 'Vacuum Cleaners & Floor Care',\n",
       "       'Televisions & Video Products', 'Additive Manufacturing Products',\n",
       "       'Headphones & Earbuds', \"Boys' Watches\", \"Girls' Clothing\",\n",
       "       \"Boys' Clothing\", 'Pregnancy & Maternity Products',\n",
       "       'Shaving & Hair Removal Products', 'Fabric Decorating',\n",
       "       'Industrial Materials', 'Smart Home: Security Cameras and Systems',\n",
       "       'Office Electronics', 'Sports & Outdoor Play Toys',\n",
       "       \"Kids' Play Tractors\", 'Slot Cars, Race Tracks & Accessories',\n",
       "       'Video Games', 'Smart Home: Voice Assistants and Hubs',\n",
       "       'Light Bulbs', 'Toys & Games', \"Kids' Furniture\",\n",
       "       'Automotive Tires & Wheels', 'Wellness & Relaxation Products',\n",
       "       'Automotive Tools & Equipment', 'Baby & Toddler Toys',\n",
       "       \"Kids' Play Boats\", 'Computer Monitors', \"Girls' Jewelry\",\n",
       "       'Luggage', 'Printmaking Supplies', \"Women's Handbags\",\n",
       "       'Foot, Hand & Nail Care Products',\n",
       "       'Baby & Toddler Feeding Supplies', 'Computers',\n",
       "       'Home Décor Products', 'Industrial Hardware',\n",
       "       'Automotive Exterior Accessories', 'Skin Care Products',\n",
       "       'Wearable Technology', 'Reptiles & Amphibian Supplies',\n",
       "       'Smart Home: Lawn and Garden', 'Horse Supplies',\n",
       "       \"Kids' Party Supplies\", 'Tablet Replacement Parts',\n",
       "       'Baby Care Products', \"Kids' Electronics\",\n",
       "       'Beading & Jewelry Making', 'Computer External Components',\n",
       "       'Furniture', 'Games & Accessories', 'Party Decorations',\n",
       "       'Accessories & Supplies', 'Industrial Power & Hand Tools',\n",
       "       'Sexual Wellness Products', 'Perfumes & Fragrances',\n",
       "       'Household Cleaning Supplies', \"Kids' Play Cars & Race Cars\",\n",
       "       'Pet Bird Supplies', 'Janitorial & Sanitation Supplies',\n",
       "       'Electrical Equipment', 'Dolls & Accessories',\n",
       "       'RV Parts & Accessories', \"Kids' Play Buses\", 'Health & Household',\n",
       "       'Baby Stationery', \"Girls' School Uniforms\", 'Travel Duffel Bags',\n",
       "       'Electronic Components', 'Mac Games & Accessories',\n",
       "       'Bath Products', 'Security & Surveillance Equipment', 'Bedding',\n",
       "       'Baby & Child Care Products', 'Computers & Tablets',\n",
       "       'Smart Home: Smart Locks and Entry',\n",
       "       'Smart Home: WiFi and Networking', 'Smart Home: Lighting',\n",
       "       'Portable Audio & Video', 'Lighting & Ceiling Fans',\n",
       "       'PC Games & Accessories', 'Wall Art',\n",
       "       \"Baby Girls' Clothing & Shoes\", 'Vehicle Electronics',\n",
       "       'Oral Care Products', 'Needlework Supplies', \"Girls' Watches\",\n",
       "       \"Girls' Shoes\", 'Hair Care Products',\n",
       "       'Packaging & Shipping Supplies', \"Kids' Dress Up & Pretend Play\",\n",
       "       'Gift Wrapping Supplies', 'Virtual Reality Hardware & Accessories',\n",
       "       'Health Care Products', 'Finger Toys', \"Kids' Play Trains & Trams\",\n",
       "       \"Baby Boys' Clothing & Shoes\", 'Home Appliances',\n",
       "       'Tricycles, Scooters & Wagons', 'Fasteners', 'Video Projectors',\n",
       "       'Vision Products', 'Arts Crafts & Sewing Storage',\n",
       "       'Science Education Supplies', 'Camera & Photo',\n",
       "       'Home Storage & Organization', 'Safety & Security', 'Data Storage',\n",
       "       'Material Handling Products', 'eBook Readers & Accessories',\n",
       "       'Baby Strollers & Accessories', 'Seasonal Décor',\n",
       "       'Heating, Cooling & Air Quality', 'Lab & Scientific Products',\n",
       "       'Smart Home: Other Solutions', 'Smart Home - Heating & Cooling',\n",
       "       'Sports & Fitness', 'Building Supplies', 'Building Toys',\n",
       "       \"Men's Watches\", 'Novelty Toys & Amusements', 'Cutting Tools',\n",
       "       'Laptop Accessories', 'Industrial & Scientific',\n",
       "       'Household Supplies', \"Boys' Jewelry\", 'Filtration',\n",
       "       'Small Animal Supplies', 'Toy Figures & Playsets',\n",
       "       'Smart Home: Home Entertainment', 'Professional Dental Supplies',\n",
       "       \"Women's Accessories\", 'Heavy Duty & Commercial Vehicle Equipment',\n",
       "       'Computer Components', 'Baby Activity & Entertainment Products',\n",
       "       'Painting, Drawing & Art Supplies', 'Lights, Bulbs & Indicators',\n",
       "       'Welding & Soldering', 'Home Use Medical Supplies & Equipment',\n",
       "       \"Women's Clothing\", 'Knitting & Crochet Supplies',\n",
       "       'Commercial Door Products', 'Automotive Enthusiast Merchandise',\n",
       "       'Sports Nutrition Products', 'Beauty & Personal Care', 'Makeup',\n",
       "       'Baby', 'Learning & Education Toys', 'GPS & Navigation',\n",
       "       'Motorcycle & Powersports', 'Video Game Consoles & Accessories',\n",
       "       \"Boys' School Uniforms\", 'Online Video Game Services',\n",
       "       'Smart Home: Plugs and Outlets', 'Smart Home: Vacuums and Mops',\n",
       "       'Outdoor Recreation', 'Sports & Outdoors',\n",
       "       'Kitchen & Bath Fixtures', 'Gift Cards', \"Women's Jewelry\",\n",
       "       'Oils & Fluids', 'Toilet Training Products',\n",
       "       'Baby Safety Products', 'Messenger Bags', \"Boys' Accessories\",\n",
       "       'Garment Bags', 'Nursery Furniture, Bedding & Décor',\n",
       "       'Power Transmission Products', 'Kitchen & Dining',\n",
       "       'Beauty Tools & Accessories', 'Computer Servers',\n",
       "       'Hydraulics, Pneumatics & Plumbing', 'Party Supplies',\n",
       "       'Dog Supplies', 'Occupational Health & Safety Products',\n",
       "       'Cell Phones & Accessories', 'Craft & Hobby Fabric',\n",
       "       'Child Safety Car Seats & Accessories', 'Diet & Sports Nutrition',\n",
       "       'Industrial Adhesives, Sealants & Lubricants', \"Kids' Home Store\",\n",
       "       'Cat Supplies', 'Hardware', 'Arts & Crafts Supplies',\n",
       "       \"Women's Watches\", 'Professional Medical Supplies',\n",
       "       'Toy Vehicle Playsets', 'Sewing Products',\n",
       "       'Abrasive & Finishing Products', 'Computer Networking',\n",
       "       'Home Lighting & Ceiling Fans', 'Ironing Products',\n",
       "       'Retail Store Fixtures & Equipment',\n",
       "       'Home Audio & Theater Products', \"Boys' Shoes\",\n",
       "       'Tools & Home Improvement', 'Fish & Aquatic Pets',\n",
       "       'Pumps & Plumbing Equipment', 'Power Tools & Hand Tools',\n",
       "       'Smart Home Thermostats - Compatibility Checker', \"Women's Shoes\",\n",
       "       'Car Care', 'Baby Travel Gear', 'Baby Gifts', 'Luggage Sets',\n",
       "       'Automotive Paint & Paint Supplies', 'Personal Care Products',\n",
       "       'Baby Diapering Products', 'Puzzles', 'Legacy Systems',\n",
       "       'Measuring & Layout', 'Smart Home: New Smart Devices',\n",
       "       'Stuffed Animals & Plush Toys', \"Kids' Play Trucks\",\n",
       "       'Craft Supplies & Materials',\n",
       "       'Automotive Performance Parts & Accessories',\n",
       "       'Automotive Replacement Parts', 'Puppets & Puppet Theaters',\n",
       "       'Tablet Accessories', \"Girls' Accessories\", 'Laptop Bags',\n",
       "       'Backpacks', 'Scrapbooking & Stamping Supplies',\n",
       "       'Food Service Equipment & Supplies', 'Test, Measure & Inspect',\n",
       "       'Travel Tote Bags', 'Automotive Interior Accessories',\n",
       "       'Paint, Wall Treatments & Supplies', 'Rain Umbrellas',\n",
       "       'Travel Accessories', 'Stationery & Gift Wrapping Supplies',\n",
       "       'Car Electronics & Accessories'], dtype=object)"
      ]
     },
     "execution_count": 226,
     "metadata": {},
     "output_type": "execute_result"
    }
   ],
   "source": [
    "cat_all = amazon_df['category'].unique()\n",
    "cat_all"
   ]
  },
  {
   "cell_type": "code",
   "execution_count": 227,
   "id": "3033336d",
   "metadata": {},
   "outputs": [],
   "source": [
    "cat_split = amazon_df['category'].value_counts()\n",
    "cat_split = cat_split.sort_values(ascending=False)\n",
    "cat_split_top= cat_split.head()\n",
    "cat_split_least =  cat_split.tail()"
   ]
  },
  {
   "cell_type": "code",
   "execution_count": 228,
   "id": "5d5fba20",
   "metadata": {},
   "outputs": [
    {
     "data": {
      "image/png": "[encoded data removed]",
      "text/plain": [
       "<Figure size 640x480 with 1 Axes>"
      ]
     },
     "metadata": {},
     "output_type": "display_data"
    },
    {
     "data": {
      "image/png": "[encoded data removed]",
      "text/plain": [
       "<Figure size 640x480 with 1 Axes>"
      ]
     },
     "metadata": {},
     "output_type": "display_data"
    }
   ],
   "source": [
    "# Plot the count of items in each category\n",
    "cat_split_top.plot(kind='bar')\n",
    "plt.title('Count of Items in Each Category(Top5)')\n",
    "plt.xlabel('Category')\n",
    "plt.ylabel('Count')\n",
    "plt.show()\n",
    "\n",
    "cat_split_least.plot(kind='bar')\n",
    "plt.title('Count of Items in Each Category(Bottom 5)')\n",
    "plt.xlabel('Category')\n",
    "plt.ylabel('Count')\n",
    "plt.show()\n",
    "\n",
    "\n"
   ]
  },
  {
   "cell_type": "code",
   "execution_count": 145,
   "id": "b8b8c774",
   "metadata": {},
   "outputs": [
    {
     "data": {
      "text/html": [
       "<div>\n",
       "<style scoped>\n",
       "    .dataframe tbody tr th:only-of-type {\n",
       "        vertical-align: middle;\n",
       "    }\n",
       "\n",
       "    .dataframe tbody tr th {\n",
       "        vertical-align: top;\n",
       "    }\n",
       "\n",
       "    .dataframe thead th {\n",
       "        text-align: right;\n",
       "    }\n",
       "</style>\n",
       "<table border=\"1\" class=\"dataframe\">\n",
       "  <thead>\n",
       "    <tr style=\"text-align: right;\">\n",
       "      <th></th>\n",
       "      <th>stars</th>\n",
       "      <th>reviews</th>\n",
       "      <th>price</th>\n",
       "      <th>boughtInLastMonth</th>\n",
       "    </tr>\n",
       "  </thead>\n",
       "  <tbody>\n",
       "    <tr>\n",
       "      <th>count</th>\n",
       "      <td>1.735414e+06</td>\n",
       "      <td>1.735414e+06</td>\n",
       "      <td>1.735414e+06</td>\n",
       "      <td>1.735414e+06</td>\n",
       "    </tr>\n",
       "    <tr>\n",
       "      <th>mean</th>\n",
       "      <td>4.054889e+00</td>\n",
       "      <td>1.772809e+02</td>\n",
       "      <td>4.220253e+01</td>\n",
       "      <td>1.907960e+02</td>\n",
       "    </tr>\n",
       "    <tr>\n",
       "      <th>std</th>\n",
       "      <td>1.278032e+00</td>\n",
       "      <td>1.774467e+03</td>\n",
       "      <td>1.249822e+02</td>\n",
       "      <td>9.952445e+02</td>\n",
       "    </tr>\n",
       "    <tr>\n",
       "      <th>min</th>\n",
       "      <td>0.000000e+00</td>\n",
       "      <td>0.000000e+00</td>\n",
       "      <td>0.000000e+00</td>\n",
       "      <td>0.000000e+00</td>\n",
       "    </tr>\n",
       "    <tr>\n",
       "      <th>25%</th>\n",
       "      <td>4.200000e+00</td>\n",
       "      <td>0.000000e+00</td>\n",
       "      <td>1.199000e+01</td>\n",
       "      <td>0.000000e+00</td>\n",
       "    </tr>\n",
       "    <tr>\n",
       "      <th>50%</th>\n",
       "      <td>4.500000e+00</td>\n",
       "      <td>0.000000e+00</td>\n",
       "      <td>1.989000e+01</td>\n",
       "      <td>0.000000e+00</td>\n",
       "    </tr>\n",
       "    <tr>\n",
       "      <th>75%</th>\n",
       "      <td>4.700000e+00</td>\n",
       "      <td>0.000000e+00</td>\n",
       "      <td>3.500000e+01</td>\n",
       "      <td>1.000000e+02</td>\n",
       "    </tr>\n",
       "    <tr>\n",
       "      <th>max</th>\n",
       "      <td>5.000000e+00</td>\n",
       "      <td>3.465630e+05</td>\n",
       "      <td>1.973181e+04</td>\n",
       "      <td>1.000000e+05</td>\n",
       "    </tr>\n",
       "  </tbody>\n",
       "</table>\n",
       "</div>"
      ],
      "text/plain": [
       "              stars       reviews         price  boughtInLastMonth\n",
       "count  1.735414e+06  1.735414e+06  1.735414e+06       1.735414e+06\n",
       "mean   4.054889e+00  1.772809e+02  4.220253e+01       1.907960e+02\n",
       "std    1.278032e+00  1.774467e+03  1.249822e+02       9.952445e+02\n",
       "min    0.000000e+00  0.000000e+00  0.000000e+00       0.000000e+00\n",
       "25%    4.200000e+00  0.000000e+00  1.199000e+01       0.000000e+00\n",
       "50%    4.500000e+00  0.000000e+00  1.989000e+01       0.000000e+00\n",
       "75%    4.700000e+00  0.000000e+00  3.500000e+01       1.000000e+02\n",
       "max    5.000000e+00  3.465630e+05  1.973181e+04       1.000000e+05"
      ]
     },
     "execution_count": 145,
     "metadata": {},
     "output_type": "execute_result"
    }
   ],
   "source": [
    "#Basic Stat summary\n",
    "amazon_df.describe()"
   ]
  },
  {
   "cell_type": "code",
   "execution_count": 146,
   "id": "b98c6da5",
   "metadata": {},
   "outputs": [
    {
     "data": {
      "text/plain": [
       "stars                0\n",
       "reviews              0\n",
       "price                0\n",
       "category             0\n",
       "isBestSeller         0\n",
       "boughtInLastMonth    0\n",
       "dtype: int64"
      ]
     },
     "execution_count": 146,
     "metadata": {},
     "output_type": "execute_result"
    }
   ],
   "source": [
    "amazon_df.isnull().sum()"
   ]
  },
  {
   "cell_type": "markdown",
   "id": "c3c8f5cc",
   "metadata": {},
   "source": [
    "## There are few products which has price error and marked as 0, these records were identified and removed as these were outliers"
   ]
  },
  {
   "cell_type": "code",
   "execution_count": 229,
   "id": "6652d512",
   "metadata": {},
   "outputs": [
    {
     "data": {
      "text/html": [
       "<div>\n",
       "<style scoped>\n",
       "    .dataframe tbody tr th:only-of-type {\n",
       "        vertical-align: middle;\n",
       "    }\n",
       "\n",
       "    .dataframe tbody tr th {\n",
       "        vertical-align: top;\n",
       "    }\n",
       "\n",
       "    .dataframe thead th {\n",
       "        text-align: right;\n",
       "    }\n",
       "</style>\n",
       "<table border=\"1\" class=\"dataframe\">\n",
       "  <thead>\n",
       "    <tr style=\"text-align: right;\">\n",
       "      <th></th>\n",
       "      <th>stars</th>\n",
       "      <th>reviews</th>\n",
       "      <th>price</th>\n",
       "      <th>category</th>\n",
       "      <th>isBestSeller</th>\n",
       "      <th>boughtInLastMonth</th>\n",
       "    </tr>\n",
       "  </thead>\n",
       "  <tbody>\n",
       "    <tr>\n",
       "      <th>177</th>\n",
       "      <td>3.8</td>\n",
       "      <td>0</td>\n",
       "      <td>0.0</td>\n",
       "      <td>Suitcases</td>\n",
       "      <td>False</td>\n",
       "      <td>0</td>\n",
       "    </tr>\n",
       "    <tr>\n",
       "      <th>180</th>\n",
       "      <td>4.5</td>\n",
       "      <td>0</td>\n",
       "      <td>0.0</td>\n",
       "      <td>Suitcases</td>\n",
       "      <td>False</td>\n",
       "      <td>0</td>\n",
       "    </tr>\n",
       "    <tr>\n",
       "      <th>252</th>\n",
       "      <td>0.0</td>\n",
       "      <td>0</td>\n",
       "      <td>0.0</td>\n",
       "      <td>Suitcases</td>\n",
       "      <td>False</td>\n",
       "      <td>0</td>\n",
       "    </tr>\n",
       "    <tr>\n",
       "      <th>328</th>\n",
       "      <td>3.9</td>\n",
       "      <td>0</td>\n",
       "      <td>0.0</td>\n",
       "      <td>Suitcases</td>\n",
       "      <td>False</td>\n",
       "      <td>0</td>\n",
       "    </tr>\n",
       "    <tr>\n",
       "      <th>445</th>\n",
       "      <td>4.0</td>\n",
       "      <td>0</td>\n",
       "      <td>0.0</td>\n",
       "      <td>Suitcases</td>\n",
       "      <td>False</td>\n",
       "      <td>0</td>\n",
       "    </tr>\n",
       "    <tr>\n",
       "      <th>...</th>\n",
       "      <td>...</td>\n",
       "      <td>...</td>\n",
       "      <td>...</td>\n",
       "      <td>...</td>\n",
       "      <td>...</td>\n",
       "      <td>...</td>\n",
       "    </tr>\n",
       "    <tr>\n",
       "      <th>1734512</th>\n",
       "      <td>2.9</td>\n",
       "      <td>0</td>\n",
       "      <td>0.0</td>\n",
       "      <td>Boys' Shoes</td>\n",
       "      <td>False</td>\n",
       "      <td>0</td>\n",
       "    </tr>\n",
       "    <tr>\n",
       "      <th>1734518</th>\n",
       "      <td>4.4</td>\n",
       "      <td>0</td>\n",
       "      <td>0.0</td>\n",
       "      <td>Boys' Shoes</td>\n",
       "      <td>False</td>\n",
       "      <td>0</td>\n",
       "    </tr>\n",
       "    <tr>\n",
       "      <th>1735258</th>\n",
       "      <td>4.4</td>\n",
       "      <td>0</td>\n",
       "      <td>0.0</td>\n",
       "      <td>Men's Accessories</td>\n",
       "      <td>False</td>\n",
       "      <td>0</td>\n",
       "    </tr>\n",
       "    <tr>\n",
       "      <th>1735336</th>\n",
       "      <td>4.2</td>\n",
       "      <td>0</td>\n",
       "      <td>0.0</td>\n",
       "      <td>Men's Accessories</td>\n",
       "      <td>False</td>\n",
       "      <td>0</td>\n",
       "    </tr>\n",
       "    <tr>\n",
       "      <th>1735387</th>\n",
       "      <td>5.0</td>\n",
       "      <td>0</td>\n",
       "      <td>0.0</td>\n",
       "      <td>Men's Accessories</td>\n",
       "      <td>False</td>\n",
       "      <td>0</td>\n",
       "    </tr>\n",
       "  </tbody>\n",
       "</table>\n",
       "<p>37758 rows × 6 columns</p>\n",
       "</div>"
      ],
      "text/plain": [
       "         stars  reviews  price           category  isBestSeller  \\\n",
       "177        3.8        0    0.0          Suitcases         False   \n",
       "180        4.5        0    0.0          Suitcases         False   \n",
       "252        0.0        0    0.0          Suitcases         False   \n",
       "328        3.9        0    0.0          Suitcases         False   \n",
       "445        4.0        0    0.0          Suitcases         False   \n",
       "...        ...      ...    ...                ...           ...   \n",
       "1734512    2.9        0    0.0        Boys' Shoes         False   \n",
       "1734518    4.4        0    0.0        Boys' Shoes         False   \n",
       "1735258    4.4        0    0.0  Men's Accessories         False   \n",
       "1735336    4.2        0    0.0  Men's Accessories         False   \n",
       "1735387    5.0        0    0.0  Men's Accessories         False   \n",
       "\n",
       "         boughtInLastMonth  \n",
       "177                      0  \n",
       "180                      0  \n",
       "252                      0  \n",
       "328                      0  \n",
       "445                      0  \n",
       "...                    ...  \n",
       "1734512                  0  \n",
       "1734518                  0  \n",
       "1735258                  0  \n",
       "1735336                  0  \n",
       "1735387                  0  \n",
       "\n",
       "[37758 rows x 6 columns]"
      ]
     },
     "execution_count": 229,
     "metadata": {},
     "output_type": "execute_result"
    }
   ],
   "source": [
    "zero_price_records = amazon_df[amazon_df['price'] == 0]\n",
    "zero_price_records"
   ]
  },
  {
   "cell_type": "code",
   "execution_count": 230,
   "id": "b0e31e3b",
   "metadata": {},
   "outputs": [
    {
     "data": {
      "text/html": [
       "<div>\n",
       "<style scoped>\n",
       "    .dataframe tbody tr th:only-of-type {\n",
       "        vertical-align: middle;\n",
       "    }\n",
       "\n",
       "    .dataframe tbody tr th {\n",
       "        vertical-align: top;\n",
       "    }\n",
       "\n",
       "    .dataframe thead th {\n",
       "        text-align: right;\n",
       "    }\n",
       "</style>\n",
       "<table border=\"1\" class=\"dataframe\">\n",
       "  <thead>\n",
       "    <tr style=\"text-align: right;\">\n",
       "      <th></th>\n",
       "      <th>stars</th>\n",
       "      <th>reviews</th>\n",
       "      <th>price</th>\n",
       "      <th>category</th>\n",
       "      <th>isBestSeller</th>\n",
       "      <th>boughtInLastMonth</th>\n",
       "    </tr>\n",
       "  </thead>\n",
       "  <tbody>\n",
       "    <tr>\n",
       "      <th>0</th>\n",
       "      <td>4.5</td>\n",
       "      <td>0</td>\n",
       "      <td>139.99</td>\n",
       "      <td>Suitcases</td>\n",
       "      <td>False</td>\n",
       "      <td>2000</td>\n",
       "    </tr>\n",
       "    <tr>\n",
       "      <th>1</th>\n",
       "      <td>4.5</td>\n",
       "      <td>0</td>\n",
       "      <td>169.99</td>\n",
       "      <td>Suitcases</td>\n",
       "      <td>False</td>\n",
       "      <td>1000</td>\n",
       "    </tr>\n",
       "    <tr>\n",
       "      <th>2</th>\n",
       "      <td>4.6</td>\n",
       "      <td>0</td>\n",
       "      <td>365.49</td>\n",
       "      <td>Suitcases</td>\n",
       "      <td>False</td>\n",
       "      <td>300</td>\n",
       "    </tr>\n",
       "    <tr>\n",
       "      <th>3</th>\n",
       "      <td>4.6</td>\n",
       "      <td>0</td>\n",
       "      <td>291.59</td>\n",
       "      <td>Suitcases</td>\n",
       "      <td>False</td>\n",
       "      <td>400</td>\n",
       "    </tr>\n",
       "    <tr>\n",
       "      <th>4</th>\n",
       "      <td>4.5</td>\n",
       "      <td>0</td>\n",
       "      <td>174.99</td>\n",
       "      <td>Suitcases</td>\n",
       "      <td>False</td>\n",
       "      <td>400</td>\n",
       "    </tr>\n",
       "  </tbody>\n",
       "</table>\n",
       "</div>"
      ],
      "text/plain": [
       "   stars  reviews   price   category  isBestSeller  boughtInLastMonth\n",
       "0    4.5        0  139.99  Suitcases         False               2000\n",
       "1    4.5        0  169.99  Suitcases         False               1000\n",
       "2    4.6        0  365.49  Suitcases         False                300\n",
       "3    4.6        0  291.59  Suitcases         False                400\n",
       "4    4.5        0  174.99  Suitcases         False                400"
      ]
     },
     "execution_count": 230,
     "metadata": {},
     "output_type": "execute_result"
    }
   ],
   "source": [
    "amazon_df = amazon_df[amazon_df['price'] != 0]\n",
    "amazon_df.head()"
   ]
  },
  {
   "cell_type": "code",
   "execution_count": 149,
   "id": "d9271f46",
   "metadata": {},
   "outputs": [
    {
     "data": {
      "text/html": [
       "<div>\n",
       "<style scoped>\n",
       "    .dataframe tbody tr th:only-of-type {\n",
       "        vertical-align: middle;\n",
       "    }\n",
       "\n",
       "    .dataframe tbody tr th {\n",
       "        vertical-align: top;\n",
       "    }\n",
       "\n",
       "    .dataframe thead th {\n",
       "        text-align: right;\n",
       "    }\n",
       "</style>\n",
       "<table border=\"1\" class=\"dataframe\">\n",
       "  <thead>\n",
       "    <tr style=\"text-align: right;\">\n",
       "      <th></th>\n",
       "      <th>stars</th>\n",
       "      <th>reviews</th>\n",
       "      <th>price</th>\n",
       "      <th>boughtInLastMonth</th>\n",
       "    </tr>\n",
       "  </thead>\n",
       "  <tbody>\n",
       "    <tr>\n",
       "      <th>count</th>\n",
       "      <td>1.697656e+06</td>\n",
       "      <td>1.697656e+06</td>\n",
       "      <td>1.697656e+06</td>\n",
       "      <td>1.697656e+06</td>\n",
       "    </tr>\n",
       "    <tr>\n",
       "      <th>mean</th>\n",
       "      <td>4.060162e+00</td>\n",
       "      <td>1.763611e+02</td>\n",
       "      <td>4.314117e+01</td>\n",
       "      <td>1.929835e+02</td>\n",
       "    </tr>\n",
       "    <tr>\n",
       "      <th>std</th>\n",
       "      <td>1.270932e+00</td>\n",
       "      <td>1.760208e+03</td>\n",
       "      <td>1.262041e+02</td>\n",
       "      <td>1.001742e+03</td>\n",
       "    </tr>\n",
       "    <tr>\n",
       "      <th>min</th>\n",
       "      <td>0.000000e+00</td>\n",
       "      <td>0.000000e+00</td>\n",
       "      <td>1.000000e-02</td>\n",
       "      <td>0.000000e+00</td>\n",
       "    </tr>\n",
       "    <tr>\n",
       "      <th>25%</th>\n",
       "      <td>4.200000e+00</td>\n",
       "      <td>0.000000e+00</td>\n",
       "      <td>1.199000e+01</td>\n",
       "      <td>0.000000e+00</td>\n",
       "    </tr>\n",
       "    <tr>\n",
       "      <th>50%</th>\n",
       "      <td>4.500000e+00</td>\n",
       "      <td>0.000000e+00</td>\n",
       "      <td>1.999000e+01</td>\n",
       "      <td>0.000000e+00</td>\n",
       "    </tr>\n",
       "    <tr>\n",
       "      <th>75%</th>\n",
       "      <td>4.700000e+00</td>\n",
       "      <td>0.000000e+00</td>\n",
       "      <td>3.599000e+01</td>\n",
       "      <td>1.000000e+02</td>\n",
       "    </tr>\n",
       "    <tr>\n",
       "      <th>max</th>\n",
       "      <td>5.000000e+00</td>\n",
       "      <td>3.465630e+05</td>\n",
       "      <td>1.973181e+04</td>\n",
       "      <td>1.000000e+05</td>\n",
       "    </tr>\n",
       "  </tbody>\n",
       "</table>\n",
       "</div>"
      ],
      "text/plain": [
       "              stars       reviews         price  boughtInLastMonth\n",
       "count  1.697656e+06  1.697656e+06  1.697656e+06       1.697656e+06\n",
       "mean   4.060162e+00  1.763611e+02  4.314117e+01       1.929835e+02\n",
       "std    1.270932e+00  1.760208e+03  1.262041e+02       1.001742e+03\n",
       "min    0.000000e+00  0.000000e+00  1.000000e-02       0.000000e+00\n",
       "25%    4.200000e+00  0.000000e+00  1.199000e+01       0.000000e+00\n",
       "50%    4.500000e+00  0.000000e+00  1.999000e+01       0.000000e+00\n",
       "75%    4.700000e+00  0.000000e+00  3.599000e+01       1.000000e+02\n",
       "max    5.000000e+00  3.465630e+05  1.973181e+04       1.000000e+05"
      ]
     },
     "execution_count": 149,
     "metadata": {},
     "output_type": "execute_result"
    }
   ],
   "source": [
    "amazon_df.describe()"
   ]
  },
  {
   "cell_type": "code",
   "execution_count": 127,
   "id": "58d4e5c4",
   "metadata": {},
   "outputs": [
    {
     "data": {
      "image/png": "[encoded data removed]",
      "text/plain": [
       "<Figure size 600x400 with 1 Axes>"
      ]
     },
     "metadata": {},
     "output_type": "display_data"
    },
    {
     "data": {
      "text/plain": [
       "False    1684381\n",
       "True       13275\n",
       "Name: isBestSeller, dtype: int64"
      ]
     },
     "execution_count": 127,
     "metadata": {},
     "output_type": "execute_result"
    }
   ],
   "source": [
    "plt.figure(figsize=(6, 4))\n",
    "sns.countplot(x='isBestSeller', data=amazon_df)\n",
    "plt.title('Distribution of Bestsellers')\n",
    "\n",
    "plt.show()\n",
    "bestseller_counts = amazon_df['isBestSeller'].value_counts()\n",
    "bestseller_counts\n"
   ]
  },
  {
   "cell_type": "code",
   "execution_count": 150,
   "id": "0299dc02",
   "metadata": {},
   "outputs": [
    {
     "name": "stdout",
     "output_type": "stream",
     "text": [
      "category\n",
      "Abrasive & Finishing Products      0.003581\n",
      "Accessories & Supplies             0.015824\n",
      "Additive Manufacturing Products    0.000923\n",
      "Arts & Crafts Supplies             0.002377\n",
      "Arts Crafts & Sewing Storage       0.001247\n",
      "                                     ...   \n",
      "Women's Handbags                   0.000746\n",
      "Women's Jewelry                    0.003571\n",
      "Women's Shoes                      0.002899\n",
      "Women's Watches                    0.000678\n",
      "eBook Readers & Accessories        0.001859\n",
      "Name: isBestSeller, Length: 236, dtype: float64\n"
     ]
    }
   ],
   "source": [
    "category_proportions = amazon_df.groupby('category')['isBestSeller'].mean()\n",
    "print(category_proportions)\n"
   ]
  },
  {
   "cell_type": "code",
   "execution_count": 151,
   "id": "f0c510f0",
   "metadata": {},
   "outputs": [
    {
     "data": {
      "text/html": [
       "<div>\n",
       "<style scoped>\n",
       "    .dataframe tbody tr th:only-of-type {\n",
       "        vertical-align: middle;\n",
       "    }\n",
       "\n",
       "    .dataframe tbody tr th {\n",
       "        vertical-align: top;\n",
       "    }\n",
       "\n",
       "    .dataframe thead th {\n",
       "        text-align: right;\n",
       "    }\n",
       "</style>\n",
       "<table border=\"1\" class=\"dataframe\">\n",
       "  <thead>\n",
       "    <tr style=\"text-align: right;\">\n",
       "      <th></th>\n",
       "      <th>stars</th>\n",
       "      <th>reviews</th>\n",
       "      <th>price</th>\n",
       "      <th>boughtInLastMonth</th>\n",
       "    </tr>\n",
       "  </thead>\n",
       "  <tbody>\n",
       "    <tr>\n",
       "      <th>stars</th>\n",
       "      <td>1.000000</td>\n",
       "      <td>0.033749</td>\n",
       "      <td>-0.080592</td>\n",
       "      <td>0.068094</td>\n",
       "    </tr>\n",
       "    <tr>\n",
       "      <th>reviews</th>\n",
       "      <td>0.033749</td>\n",
       "      <td>1.000000</td>\n",
       "      <td>-0.009699</td>\n",
       "      <td>0.133618</td>\n",
       "    </tr>\n",
       "    <tr>\n",
       "      <th>price</th>\n",
       "      <td>-0.080592</td>\n",
       "      <td>-0.009699</td>\n",
       "      <td>1.000000</td>\n",
       "      <td>-0.030939</td>\n",
       "    </tr>\n",
       "    <tr>\n",
       "      <th>boughtInLastMonth</th>\n",
       "      <td>0.068094</td>\n",
       "      <td>0.133618</td>\n",
       "      <td>-0.030939</td>\n",
       "      <td>1.000000</td>\n",
       "    </tr>\n",
       "  </tbody>\n",
       "</table>\n",
       "</div>"
      ],
      "text/plain": [
       "                      stars   reviews     price  boughtInLastMonth\n",
       "stars              1.000000  0.033749 -0.080592           0.068094\n",
       "reviews            0.033749  1.000000 -0.009699           0.133618\n",
       "price             -0.080592 -0.009699  1.000000          -0.030939\n",
       "boughtInLastMonth  0.068094  0.133618 -0.030939           1.000000"
      ]
     },
     "execution_count": 151,
     "metadata": {},
     "output_type": "execute_result"
    }
   ],
   "source": [
    "num_corr= amazon_df[['stars', 'reviews', 'price', 'boughtInLastMonth']].corr()\n",
    "num_corr"
   ]
  },
  {
   "cell_type": "code",
   "execution_count": 152,
   "id": "6fea1d48",
   "metadata": {},
   "outputs": [
    {
     "data": {
      "image/png": "[encoded data removed]",
      "text/plain": [
       "<Figure size 640x480 with 1 Axes>"
      ]
     },
     "metadata": {},
     "output_type": "display_data"
    }
   ],
   "source": [
    "fig, ax = plt.subplots()\n",
    "ax.hist(amazon_df.stars)\n",
    "ax.set_axisbelow(True)  # Show the grid lines behind the histogram\n",
    "ax.grid(which='major', color='grey', linestyle='--')\n",
    "ax.set_xlabel('stars')\n",
    "ax.set_ylabel('count')\n",
    "plt.show()"
   ]
  },
  {
   "cell_type": "code",
   "execution_count": 153,
   "id": "f1bd081e",
   "metadata": {},
   "outputs": [
    {
     "data": {
      "image/png": "[encoded data removed]",
      "text/plain": [
       "<Figure size 640x480 with 1 Axes>"
      ]
     },
     "metadata": {},
     "output_type": "display_data"
    }
   ],
   "source": [
    "ax = amazon_df.boxplot(column='price')\n",
    "ax.set_ylabel('price')\n",
    "plt.show()"
   ]
  },
  {
   "cell_type": "code",
   "execution_count": 231,
   "id": "67a5ec22",
   "metadata": {},
   "outputs": [],
   "source": [
    "amazon_df = amazon_df[amazon_df['price'] <= 15000]"
   ]
  },
  {
   "cell_type": "code",
   "execution_count": 100,
   "id": "251a726b",
   "metadata": {},
   "outputs": [
    {
     "data": {
      "image/png": "[encoded data removed]",
      "text/plain": [
       "<Figure size 640x480 with 1 Axes>"
      ]
     },
     "metadata": {},
     "output_type": "display_data"
    }
   ],
   "source": [
    "ax = amazon_df.boxplot(column='price')\n",
    "ax.set_ylabel('price')\n",
    "plt.show()"
   ]
  },
  {
   "cell_type": "code",
   "execution_count": 132,
   "id": "ad6c8034",
   "metadata": {},
   "outputs": [
    {
     "data": {
      "text/plain": [
       "Index(['stars', 'reviews', 'price', 'category', 'isBestSeller',\n",
       "       'boughtInLastMonth'],\n",
       "      dtype='object')"
      ]
     },
     "execution_count": 132,
     "metadata": {},
     "output_type": "execute_result"
    }
   ],
   "source": [
    "amazon_df.columns"
   ]
  },
  {
   "cell_type": "code",
   "execution_count": 233,
   "id": "6cc135cb",
   "metadata": {},
   "outputs": [
    {
     "data": {
      "text/html": [
       "<div>\n",
       "<style scoped>\n",
       "    .dataframe tbody tr th:only-of-type {\n",
       "        vertical-align: middle;\n",
       "    }\n",
       "\n",
       "    .dataframe tbody tr th {\n",
       "        vertical-align: top;\n",
       "    }\n",
       "\n",
       "    .dataframe thead th {\n",
       "        text-align: right;\n",
       "    }\n",
       "</style>\n",
       "<table border=\"1\" class=\"dataframe\">\n",
       "  <thead>\n",
       "    <tr style=\"text-align: right;\">\n",
       "      <th></th>\n",
       "      <th>stars</th>\n",
       "      <th>reviews</th>\n",
       "      <th>price</th>\n",
       "      <th>category</th>\n",
       "      <th>isBestSeller</th>\n",
       "      <th>boughtInLastMonth</th>\n",
       "    </tr>\n",
       "  </thead>\n",
       "  <tbody>\n",
       "    <tr>\n",
       "      <th>0</th>\n",
       "      <td>4.5</td>\n",
       "      <td>0</td>\n",
       "      <td>139.99</td>\n",
       "      <td>Suitcases</td>\n",
       "      <td>False</td>\n",
       "      <td>2000</td>\n",
       "    </tr>\n",
       "    <tr>\n",
       "      <th>1</th>\n",
       "      <td>4.5</td>\n",
       "      <td>0</td>\n",
       "      <td>169.99</td>\n",
       "      <td>Suitcases</td>\n",
       "      <td>False</td>\n",
       "      <td>1000</td>\n",
       "    </tr>\n",
       "    <tr>\n",
       "      <th>2</th>\n",
       "      <td>4.6</td>\n",
       "      <td>0</td>\n",
       "      <td>365.49</td>\n",
       "      <td>Suitcases</td>\n",
       "      <td>False</td>\n",
       "      <td>300</td>\n",
       "    </tr>\n",
       "    <tr>\n",
       "      <th>3</th>\n",
       "      <td>4.6</td>\n",
       "      <td>0</td>\n",
       "      <td>291.59</td>\n",
       "      <td>Suitcases</td>\n",
       "      <td>False</td>\n",
       "      <td>400</td>\n",
       "    </tr>\n",
       "    <tr>\n",
       "      <th>4</th>\n",
       "      <td>4.5</td>\n",
       "      <td>0</td>\n",
       "      <td>174.99</td>\n",
       "      <td>Suitcases</td>\n",
       "      <td>False</td>\n",
       "      <td>400</td>\n",
       "    </tr>\n",
       "  </tbody>\n",
       "</table>\n",
       "</div>"
      ],
      "text/plain": [
       "   stars  reviews   price   category  isBestSeller  boughtInLastMonth\n",
       "0    4.5        0  139.99  Suitcases         False               2000\n",
       "1    4.5        0  169.99  Suitcases         False               1000\n",
       "2    4.6        0  365.49  Suitcases         False                300\n",
       "3    4.6        0  291.59  Suitcases         False                400\n",
       "4    4.5        0  174.99  Suitcases         False                400"
      ]
     },
     "execution_count": 233,
     "metadata": {},
     "output_type": "execute_result"
    }
   ],
   "source": [
    "amazon_logit = amazon_df\n",
    "amazon_logit.head()"
   ]
  },
  {
   "cell_type": "code",
   "execution_count": 187,
   "id": "f4154bd8",
   "metadata": {},
   "outputs": [
    {
     "name": "stdout",
     "output_type": "stream",
     "text": [
      "Category Mapping:\n",
      "{'Abrasive & Finishing Products': 0, 'Accessories & Supplies': 1, 'Additive Manufacturing Products': 2, 'Arts & Crafts Supplies': 3, 'Arts Crafts & Sewing Storage': 4, 'Automotive Enthusiast Merchandise': 5, 'Automotive Exterior Accessories': 6, 'Automotive Interior Accessories': 7, 'Automotive Paint & Paint Supplies': 8, 'Automotive Performance Parts & Accessories': 9, 'Automotive Replacement Parts': 10, 'Automotive Tires & Wheels': 11, 'Automotive Tools & Equipment': 12, 'Baby': 13, 'Baby & Child Care Products': 14, 'Baby & Toddler Feeding Supplies': 15, 'Baby & Toddler Toys': 16, 'Baby Activity & Entertainment Products': 17, \"Baby Boys' Clothing & Shoes\": 18, 'Baby Care Products': 19, 'Baby Diapering Products': 20, 'Baby Gifts': 21, \"Baby Girls' Clothing & Shoes\": 22, 'Baby Safety Products': 23, 'Baby Stationery': 24, 'Baby Strollers & Accessories': 25, 'Baby Travel Gear': 26, 'Backpacks': 27, 'Bath Products': 28, 'Beading & Jewelry Making': 29, 'Beauty & Personal Care': 30, 'Beauty Tools & Accessories': 31, 'Bedding': 32, \"Boys' Accessories\": 33, \"Boys' Clothing\": 34, \"Boys' Jewelry\": 35, \"Boys' School Uniforms\": 36, \"Boys' Shoes\": 37, \"Boys' Watches\": 38, 'Building Supplies': 39, 'Building Toys': 40, 'Camera & Photo': 41, 'Car Care': 42, 'Car Electronics & Accessories': 43, 'Cat Supplies': 44, 'Cell Phones & Accessories': 45, 'Child Safety Car Seats & Accessories': 46, 'Commercial Door Products': 47, 'Computer Components': 48, 'Computer External Components': 49, 'Computer Monitors': 50, 'Computer Networking': 51, 'Computer Servers': 52, 'Computers': 53, 'Computers & Tablets': 54, 'Consoles & Accessories': 55, 'Craft & Hobby Fabric': 56, 'Craft Supplies & Materials': 57, 'Cutting Tools': 58, 'Data Storage': 59, 'Diet & Sports Nutrition': 60, 'Dog Supplies': 61, 'Dolls & Accessories': 62, 'Electrical Equipment': 63, 'Electronic Components': 64, 'Fabric Decorating': 65, 'Fasteners': 66, 'Filtration': 67, 'Finger Toys': 68, 'Fish & Aquatic Pets': 69, 'Food Service Equipment & Supplies': 70, 'Foot, Hand & Nail Care Products': 71, 'Furniture': 72, 'GPS & Navigation': 73, 'Games & Accessories': 74, 'Garment Bags': 75, 'Gift Cards': 76, 'Gift Wrapping Supplies': 77, \"Girls' Accessories\": 78, \"Girls' Clothing\": 79, \"Girls' Jewelry\": 80, \"Girls' School Uniforms\": 81, \"Girls' Shoes\": 82, \"Girls' Watches\": 83, 'Hair Care Products': 84, 'Hardware': 85, 'Headphones & Earbuds': 86, 'Health & Household': 87, 'Health Care Products': 88, 'Heating, Cooling & Air Quality': 89, 'Heavy Duty & Commercial Vehicle Equipment': 90, 'Home Appliances': 91, 'Home Audio & Theater Products': 92, 'Home Décor Products': 93, 'Home Lighting & Ceiling Fans': 94, 'Home Storage & Organization': 95, 'Home Use Medical Supplies & Equipment': 96, 'Horse Supplies': 97, 'Household Cleaning Supplies': 98, 'Household Supplies': 99, 'Hydraulics, Pneumatics & Plumbing': 100, 'Industrial & Scientific': 101, 'Industrial Adhesives, Sealants & Lubricants': 102, 'Industrial Hardware': 103, 'Industrial Materials': 104, 'Industrial Power & Hand Tools': 105, 'Ironing Products': 106, 'Janitorial & Sanitation Supplies': 107, \"Kids' Dress Up & Pretend Play\": 108, \"Kids' Electronics\": 109, \"Kids' Furniture\": 110, \"Kids' Home Store\": 111, \"Kids' Party Supplies\": 112, \"Kids' Play Boats\": 113, \"Kids' Play Buses\": 114, \"Kids' Play Cars & Race Cars\": 115, \"Kids' Play Tractors\": 116, \"Kids' Play Trains & Trams\": 117, \"Kids' Play Trucks\": 118, 'Kitchen & Bath Fixtures': 119, 'Kitchen & Dining': 120, 'Knitting & Crochet Supplies': 121, 'Lab & Scientific Products': 122, 'Laptop Accessories': 123, 'Laptop Bags': 124, 'Learning & Education Toys': 125, 'Legacy Systems': 126, 'Light Bulbs': 127, 'Lighting & Ceiling Fans': 128, 'Lights, Bulbs & Indicators': 129, 'Luggage': 130, 'Luggage Sets': 131, 'Mac Games & Accessories': 132, 'Makeup': 133, 'Material Handling Products': 134, 'Measuring & Layout': 135, \"Men's Accessories\": 136, \"Men's Clothing\": 137, \"Men's Shoes\": 138, \"Men's Watches\": 139, 'Messenger Bags': 140, 'Motorcycle & Powersports': 141, 'Needlework Supplies': 142, 'Novelty Toys & Amusements': 143, 'Nursery Furniture, Bedding & Décor': 144, 'Occupational Health & Safety Products': 145, 'Office Electronics': 146, 'Oils & Fluids': 147, 'Online Video Game Services': 148, 'Oral Care Products': 149, 'Outdoor Recreation': 150, 'PC Games & Accessories': 151, 'Packaging & Shipping Supplies': 152, 'Paint, Wall Treatments & Supplies': 153, 'Painting, Drawing & Art Supplies': 154, 'Party Decorations': 155, 'Party Supplies': 156, 'Perfumes & Fragrances': 157, 'Personal Care Products': 158, 'Pet Bird Supplies': 159, 'Portable Audio & Video': 160, 'Power Tools & Hand Tools': 161, 'Power Transmission Products': 162, 'Pregnancy & Maternity Products': 163, 'Printmaking Supplies': 164, 'Professional Dental Supplies': 165, 'Professional Medical Supplies': 166, 'Pumps & Plumbing Equipment': 167, 'Puppets & Puppet Theaters': 168, 'Puzzles': 169, 'RV Parts & Accessories': 170, 'Rain Umbrellas': 171, 'Reptiles & Amphibian Supplies': 172, 'Retail Store Fixtures & Equipment': 173, 'Safety & Security': 174, 'Science Education Supplies': 175, 'Scrapbooking & Stamping Supplies': 176, 'Seasonal Décor': 177, 'Security & Surveillance Equipment': 178, 'Sewing Products': 179, 'Sexual Wellness Products': 180, 'Shaving & Hair Removal Products': 181, 'Skin Care Products': 182, 'Slot Cars, Race Tracks & Accessories': 183, 'Small Animal Supplies': 184, 'Smart Home - Heating & Cooling': 185, 'Smart Home Thermostats - Compatibility Checker': 186, 'Smart Home: Home Entertainment': 187, 'Smart Home: Lawn and Garden': 188, 'Smart Home: Lighting': 189, 'Smart Home: New Smart Devices': 190, 'Smart Home: Other Solutions': 191, 'Smart Home: Plugs and Outlets': 192, 'Smart Home: Security Cameras and Systems': 193, 'Smart Home: Smart Locks and Entry': 194, 'Smart Home: Vacuums and Mops': 195, 'Smart Home: Voice Assistants and Hubs': 196, 'Smart Home: WiFi and Networking': 197, 'Sports & Fitness': 198, 'Sports & Outdoor Play Toys': 199, 'Sports & Outdoors': 200, 'Sports Nutrition Products': 201, 'Stationery & Gift Wrapping Supplies': 202, 'Stuffed Animals & Plush Toys': 203, 'Suitcases': 204, 'Tablet Accessories': 205, 'Tablet Replacement Parts': 206, 'Televisions & Video Products': 207, 'Test, Measure & Inspect': 208, 'Toilet Training Products': 209, 'Tools & Home Improvement': 210, 'Toy Figures & Playsets': 211, 'Toy Vehicle Playsets': 212, 'Toys & Games': 213, 'Travel Accessories': 214, 'Travel Duffel Bags': 215, 'Travel Tote Bags': 216, 'Tricycles, Scooters & Wagons': 217, 'Vacuum Cleaners & Floor Care': 218, 'Vehicle Electronics': 219, 'Video Game Consoles & Accessories': 220, 'Video Games': 221, 'Video Projectors': 222, 'Virtual Reality Hardware & Accessories': 223, 'Vision Products': 224, 'Wall Art': 225, 'Wearable Technology': 226, 'Welding & Soldering': 227, 'Wellness & Relaxation Products': 228, \"Women's Accessories\": 229, \"Women's Clothing\": 230, \"Women's Handbags\": 231, \"Women's Jewelry\": 232, \"Women's Shoes\": 233, \"Women's Watches\": 234, 'eBook Readers & Accessories': 235}\n"
     ]
    }
   ],
   "source": [
    "from sklearn.preprocessing import LabelEncoder\n",
    "\n",
    "# Assuming 'X' is your DataFrame and 'category' is the column you label encoded\n",
    "label_encoder = LabelEncoder()\n",
    "amazon_logit['category_encoded'] = label_encoder.fit_transform(amazon_logit['category'])\n",
    "\n",
    "\n",
    "# Display the mapping between categories and encoded values\n",
    "category_mapping = dict(zip(label_encoder.classes_, label_encoder.transform(label_encoder.classes_)))\n",
    "print(\"Category Mapping:\")\n",
    "print(category_mapping)\n"
   ]
  },
  {
   "cell_type": "code",
   "execution_count": 192,
   "id": "ff13e471",
   "metadata": {},
   "outputs": [
    {
     "name": "stdout",
     "output_type": "stream",
     "text": [
      "Category Mapping:\n",
      "{False: 0, True: 1}\n"
     ]
    }
   ],
   "source": [
    "amazon_logit['isBestSeller_en'] = label_encoder.fit_transform(amazon_logit['isBestSeller'])\n",
    "category_mapping = dict(zip(label_encoder.classes_, label_encoder.transform(label_encoder.classes_)))\n",
    "print(\"Category Mapping:\")\n",
    "print(category_mapping)"
   ]
  },
  {
   "cell_type": "code",
   "execution_count": 194,
   "id": "2dd1152f",
   "metadata": {},
   "outputs": [
    {
     "data": {
      "text/html": [
       "<div>\n",
       "<style scoped>\n",
       "    .dataframe tbody tr th:only-of-type {\n",
       "        vertical-align: middle;\n",
       "    }\n",
       "\n",
       "    .dataframe tbody tr th {\n",
       "        vertical-align: top;\n",
       "    }\n",
       "\n",
       "    .dataframe thead th {\n",
       "        text-align: right;\n",
       "    }\n",
       "</style>\n",
       "<table border=\"1\" class=\"dataframe\">\n",
       "  <thead>\n",
       "    <tr style=\"text-align: right;\">\n",
       "      <th></th>\n",
       "      <th>stars</th>\n",
       "      <th>reviews</th>\n",
       "      <th>price</th>\n",
       "      <th>category</th>\n",
       "      <th>isBestSeller</th>\n",
       "      <th>boughtInLastMonth</th>\n",
       "      <th>category_encoded</th>\n",
       "      <th>isBestSeller_en</th>\n",
       "    </tr>\n",
       "  </thead>\n",
       "  <tbody>\n",
       "    <tr>\n",
       "      <th>0</th>\n",
       "      <td>4.5</td>\n",
       "      <td>0</td>\n",
       "      <td>139.99</td>\n",
       "      <td>Suitcases</td>\n",
       "      <td>False</td>\n",
       "      <td>2000</td>\n",
       "      <td>204</td>\n",
       "      <td>0</td>\n",
       "    </tr>\n",
       "    <tr>\n",
       "      <th>1</th>\n",
       "      <td>4.5</td>\n",
       "      <td>0</td>\n",
       "      <td>169.99</td>\n",
       "      <td>Suitcases</td>\n",
       "      <td>False</td>\n",
       "      <td>1000</td>\n",
       "      <td>204</td>\n",
       "      <td>0</td>\n",
       "    </tr>\n",
       "    <tr>\n",
       "      <th>2</th>\n",
       "      <td>4.6</td>\n",
       "      <td>0</td>\n",
       "      <td>365.49</td>\n",
       "      <td>Suitcases</td>\n",
       "      <td>False</td>\n",
       "      <td>300</td>\n",
       "      <td>204</td>\n",
       "      <td>0</td>\n",
       "    </tr>\n",
       "    <tr>\n",
       "      <th>3</th>\n",
       "      <td>4.6</td>\n",
       "      <td>0</td>\n",
       "      <td>291.59</td>\n",
       "      <td>Suitcases</td>\n",
       "      <td>False</td>\n",
       "      <td>400</td>\n",
       "      <td>204</td>\n",
       "      <td>0</td>\n",
       "    </tr>\n",
       "    <tr>\n",
       "      <th>4</th>\n",
       "      <td>4.5</td>\n",
       "      <td>0</td>\n",
       "      <td>174.99</td>\n",
       "      <td>Suitcases</td>\n",
       "      <td>False</td>\n",
       "      <td>400</td>\n",
       "      <td>204</td>\n",
       "      <td>0</td>\n",
       "    </tr>\n",
       "  </tbody>\n",
       "</table>\n",
       "</div>"
      ],
      "text/plain": [
       "   stars  reviews   price   category  isBestSeller  boughtInLastMonth  \\\n",
       "0    4.5        0  139.99  Suitcases         False               2000   \n",
       "1    4.5        0  169.99  Suitcases         False               1000   \n",
       "2    4.6        0  365.49  Suitcases         False                300   \n",
       "3    4.6        0  291.59  Suitcases         False                400   \n",
       "4    4.5        0  174.99  Suitcases         False                400   \n",
       "\n",
       "   category_encoded  isBestSeller_en  \n",
       "0               204                0  \n",
       "1               204                0  \n",
       "2               204                0  \n",
       "3               204                0  \n",
       "4               204                0  "
      ]
     },
     "execution_count": 194,
     "metadata": {},
     "output_type": "execute_result"
    }
   ],
   "source": [
    "amazon_logit.head()"
   ]
  },
  {
   "cell_type": "code",
   "execution_count": 195,
   "id": "e32ae28e",
   "metadata": {},
   "outputs": [
    {
     "data": {
      "text/html": [
       "<div>\n",
       "<style scoped>\n",
       "    .dataframe tbody tr th:only-of-type {\n",
       "        vertical-align: middle;\n",
       "    }\n",
       "\n",
       "    .dataframe tbody tr th {\n",
       "        vertical-align: top;\n",
       "    }\n",
       "\n",
       "    .dataframe thead th {\n",
       "        text-align: right;\n",
       "    }\n",
       "</style>\n",
       "<table border=\"1\" class=\"dataframe\">\n",
       "  <thead>\n",
       "    <tr style=\"text-align: right;\">\n",
       "      <th></th>\n",
       "      <th>stars</th>\n",
       "      <th>reviews</th>\n",
       "      <th>price</th>\n",
       "      <th>boughtInLastMonth</th>\n",
       "      <th>category_encoded</th>\n",
       "      <th>isBestSeller_en</th>\n",
       "    </tr>\n",
       "  </thead>\n",
       "  <tbody>\n",
       "    <tr>\n",
       "      <th>0</th>\n",
       "      <td>4.5</td>\n",
       "      <td>0</td>\n",
       "      <td>139.99</td>\n",
       "      <td>2000</td>\n",
       "      <td>204</td>\n",
       "      <td>0</td>\n",
       "    </tr>\n",
       "    <tr>\n",
       "      <th>1</th>\n",
       "      <td>4.5</td>\n",
       "      <td>0</td>\n",
       "      <td>169.99</td>\n",
       "      <td>1000</td>\n",
       "      <td>204</td>\n",
       "      <td>0</td>\n",
       "    </tr>\n",
       "    <tr>\n",
       "      <th>2</th>\n",
       "      <td>4.6</td>\n",
       "      <td>0</td>\n",
       "      <td>365.49</td>\n",
       "      <td>300</td>\n",
       "      <td>204</td>\n",
       "      <td>0</td>\n",
       "    </tr>\n",
       "    <tr>\n",
       "      <th>3</th>\n",
       "      <td>4.6</td>\n",
       "      <td>0</td>\n",
       "      <td>291.59</td>\n",
       "      <td>400</td>\n",
       "      <td>204</td>\n",
       "      <td>0</td>\n",
       "    </tr>\n",
       "    <tr>\n",
       "      <th>4</th>\n",
       "      <td>4.5</td>\n",
       "      <td>0</td>\n",
       "      <td>174.99</td>\n",
       "      <td>400</td>\n",
       "      <td>204</td>\n",
       "      <td>0</td>\n",
       "    </tr>\n",
       "  </tbody>\n",
       "</table>\n",
       "</div>"
      ],
      "text/plain": [
       "   stars  reviews   price  boughtInLastMonth  category_encoded  \\\n",
       "0    4.5        0  139.99               2000               204   \n",
       "1    4.5        0  169.99               1000               204   \n",
       "2    4.6        0  365.49                300               204   \n",
       "3    4.6        0  291.59                400               204   \n",
       "4    4.5        0  174.99                400               204   \n",
       "\n",
       "   isBestSeller_en  \n",
       "0                0  \n",
       "1                0  \n",
       "2                0  \n",
       "3                0  \n",
       "4                0  "
      ]
     },
     "execution_count": 195,
     "metadata": {},
     "output_type": "execute_result"
    }
   ],
   "source": [
    "amazon_logit = amazon_logit.drop('category', axis=1)\n",
    "amazon_logit = amazon_logit.drop('isBestSeller', axis=1)\n",
    "amazon_logit.head()"
   ]
  },
  {
   "cell_type": "code",
   "execution_count": 196,
   "id": "e29309cd",
   "metadata": {},
   "outputs": [
    {
     "data": {
      "text/plain": [
       "Index(['stars', 'reviews', 'price', 'boughtInLastMonth', 'category_encoded',\n",
       "       'isBestSeller_en'],\n",
       "      dtype='object')"
      ]
     },
     "execution_count": 196,
     "metadata": {},
     "output_type": "execute_result"
    }
   ],
   "source": [
    "amazon_logit.columns"
   ]
  },
  {
   "cell_type": "code",
   "execution_count": 197,
   "id": "d3573e52",
   "metadata": {},
   "outputs": [],
   "source": [
    "predictors = ['stars', 'reviews', 'price','boughtInLastMonth' ,\n",
    "       'category_encoded']\n",
    "outcome= 'isBestSeller_en'"
   ]
  },
  {
   "cell_type": "code",
   "execution_count": 112,
   "id": "95bfa18c",
   "metadata": {},
   "outputs": [
    {
     "data": {
      "text/html": [
       "<div>\n",
       "<style scoped>\n",
       "    .dataframe tbody tr th:only-of-type {\n",
       "        vertical-align: middle;\n",
       "    }\n",
       "\n",
       "    .dataframe tbody tr th {\n",
       "        vertical-align: top;\n",
       "    }\n",
       "\n",
       "    .dataframe thead th {\n",
       "        text-align: right;\n",
       "    }\n",
       "</style>\n",
       "<table border=\"1\" class=\"dataframe\">\n",
       "  <thead>\n",
       "    <tr style=\"text-align: right;\">\n",
       "      <th></th>\n",
       "      <th>stars</th>\n",
       "      <th>reviews</th>\n",
       "      <th>price</th>\n",
       "      <th>isBestSeller</th>\n",
       "      <th>boughtInLastMonth</th>\n",
       "      <th>category_encoded</th>\n",
       "    </tr>\n",
       "  </thead>\n",
       "  <tbody>\n",
       "    <tr>\n",
       "      <th>0</th>\n",
       "      <td>4.5</td>\n",
       "      <td>0</td>\n",
       "      <td>139.99</td>\n",
       "      <td>False</td>\n",
       "      <td>2000</td>\n",
       "      <td>204</td>\n",
       "    </tr>\n",
       "    <tr>\n",
       "      <th>1</th>\n",
       "      <td>4.5</td>\n",
       "      <td>0</td>\n",
       "      <td>169.99</td>\n",
       "      <td>False</td>\n",
       "      <td>1000</td>\n",
       "      <td>204</td>\n",
       "    </tr>\n",
       "    <tr>\n",
       "      <th>2</th>\n",
       "      <td>4.6</td>\n",
       "      <td>0</td>\n",
       "      <td>365.49</td>\n",
       "      <td>False</td>\n",
       "      <td>300</td>\n",
       "      <td>204</td>\n",
       "    </tr>\n",
       "    <tr>\n",
       "      <th>3</th>\n",
       "      <td>4.6</td>\n",
       "      <td>0</td>\n",
       "      <td>291.59</td>\n",
       "      <td>False</td>\n",
       "      <td>400</td>\n",
       "      <td>204</td>\n",
       "    </tr>\n",
       "    <tr>\n",
       "      <th>4</th>\n",
       "      <td>4.5</td>\n",
       "      <td>0</td>\n",
       "      <td>174.99</td>\n",
       "      <td>False</td>\n",
       "      <td>400</td>\n",
       "      <td>204</td>\n",
       "    </tr>\n",
       "  </tbody>\n",
       "</table>\n",
       "</div>"
      ],
      "text/plain": [
       "   stars  reviews   price  isBestSeller  boughtInLastMonth  category_encoded\n",
       "0    4.5        0  139.99         False               2000               204\n",
       "1    4.5        0  169.99         False               1000               204\n",
       "2    4.6        0  365.49         False                300               204\n",
       "3    4.6        0  291.59         False                400               204\n",
       "4    4.5        0  174.99         False                400               204"
      ]
     },
     "execution_count": 112,
     "metadata": {},
     "output_type": "execute_result"
    }
   ],
   "source": [
    "# Assuming 'df' is your DataFrame and 'column_to_convert' is the column you want to convert to boolean\n",
    "\n"
   ]
  },
  {
   "cell_type": "code",
   "execution_count": 198,
   "id": "2673a06c",
   "metadata": {},
   "outputs": [
    {
     "name": "stdout",
     "output_type": "stream",
     "text": [
      "         stars  reviews   price  boughtInLastMonth  category_encoded\n",
      "0          4.5        0  139.99               2000               204\n",
      "1          4.5        0  169.99               1000               204\n",
      "2          4.6        0  365.49                300               204\n",
      "3          4.6        0  291.59                400               204\n",
      "4          4.5        0  174.99                400               204\n",
      "...        ...      ...     ...                ...               ...\n",
      "1735409    4.4        0   33.99                  0               136\n",
      "1735410    3.6        0    8.54                  0               136\n",
      "1735411    4.5        0   54.36                  0               136\n",
      "1735412    4.9        0   18.79                  0               136\n",
      "1735413    0.0        0   14.99                  0               136\n",
      "\n",
      "[1697656 rows x 5 columns]\n",
      "0          0\n",
      "1          0\n",
      "2          0\n",
      "3          0\n",
      "4          0\n",
      "          ..\n",
      "1735409    0\n",
      "1735410    0\n",
      "1735411    0\n",
      "1735412    0\n",
      "1735413    0\n",
      "Name: isBestSeller_en, Length: 1697656, dtype: int64\n"
     ]
    }
   ],
   "source": [
    "X = amazon_logit[predictors]\n",
    "y = amazon_logit[outcome]\n",
    "train_X, valid_X, train_y, valid_y = train_test_split(X, y, test_size=0.4, random_state=3)\n",
    "print(X)\n",
    "print(y)"
   ]
  },
  {
   "cell_type": "code",
   "execution_count": 200,
   "id": "33336f59",
   "metadata": {},
   "outputs": [],
   "source": [
    "\n",
    "logit_reg = sm.GLM(y, X, family=sm.families.Binomial())"
   ]
  },
  {
   "cell_type": "code",
   "execution_count": 201,
   "id": "891dae4a",
   "metadata": {},
   "outputs": [
    {
     "name": "stderr",
     "output_type": "stream",
     "text": [
      "C:\\Users\\meeta\\Downloads\\Anaconda\\Lib\\site-packages\\statsmodels\\genmod\\families\\links.py:198: RuntimeWarning: overflow encountered in exp\n",
      "  t = np.exp(-z)\n",
      "C:\\Users\\meeta\\Downloads\\Anaconda\\Lib\\site-packages\\statsmodels\\genmod\\families\\family.py:1056: RuntimeWarning: divide by zero encountered in log\n",
      "  special.gammaln(n - y + 1) + y * np.log(mu / (1 - mu + 1e-20)) +\n",
      "C:\\Users\\meeta\\Downloads\\Anaconda\\Lib\\site-packages\\statsmodels\\genmod\\families\\family.py:1056: RuntimeWarning: invalid value encountered in multiply\n",
      "  special.gammaln(n - y + 1) + y * np.log(mu / (1 - mu + 1e-20)) +\n"
     ]
    },
    {
     "data": {
      "text/html": [
       "<table class=\"simpletable\">\n",
       "<caption>Generalized Linear Model Regression Results</caption>\n",
       "<tr>\n",
       "  <th>Dep. Variable:</th>    <td>isBestSeller_en</td> <th>  No. Observations:  </th>   <td>1697656</td> \n",
       "</tr>\n",
       "<tr>\n",
       "  <th>Model:</th>                  <td>GLM</td>       <th>  Df Residuals:      </th>   <td>1697651</td> \n",
       "</tr>\n",
       "<tr>\n",
       "  <th>Model Family:</th>        <td>Binomial</td>     <th>  Df Model:          </th>   <td>     4</td>  \n",
       "</tr>\n",
       "<tr>\n",
       "  <th>Link Function:</th>         <td>Logit</td>      <th>  Scale:             </th>  <td>  1.0000</td> \n",
       "</tr>\n",
       "<tr>\n",
       "  <th>Method:</th>                <td>IRLS</td>       <th>  Log-Likelihood:    </th>  <td>     nan</td> \n",
       "</tr>\n",
       "<tr>\n",
       "  <th>Date:</th>            <td>Tue, 12 Dec 2023</td> <th>  Deviance:          </th> <td>1.9787e+05</td>\n",
       "</tr>\n",
       "<tr>\n",
       "  <th>Time:</th>                <td>22:53:14</td>     <th>  Pearson chi2:      </th>  <td>4.06e+16</td> \n",
       "</tr>\n",
       "<tr>\n",
       "  <th>No. Iterations:</th>         <td>11</td>        <th>  Pseudo R-squ. (CS):</th>   <td>   nan</td>  \n",
       "</tr>\n",
       "<tr>\n",
       "  <th>Covariance Type:</th>     <td>nonrobust</td>    <th>                     </th>      <td> </td>    \n",
       "</tr>\n",
       "</table>\n",
       "<table class=\"simpletable\">\n",
       "<tr>\n",
       "          <td></td>             <th>coef</th>     <th>std err</th>      <th>z</th>      <th>P>|z|</th>  <th>[0.025</th>    <th>0.975]</th>  \n",
       "</tr>\n",
       "<tr>\n",
       "  <th>stars</th>             <td>   -0.6146</td> <td>    0.003</td> <td> -222.716</td> <td> 0.000</td> <td>   -0.620</td> <td>   -0.609</td>\n",
       "</tr>\n",
       "<tr>\n",
       "  <th>reviews</th>           <td> 5.609e-05</td> <td> 1.73e-06</td> <td>   32.371</td> <td> 0.000</td> <td> 5.27e-05</td> <td> 5.95e-05</td>\n",
       "</tr>\n",
       "<tr>\n",
       "  <th>price</th>             <td>   -0.0549</td> <td>    0.001</td> <td> -104.543</td> <td> 0.000</td> <td>   -0.056</td> <td>   -0.054</td>\n",
       "</tr>\n",
       "<tr>\n",
       "  <th>boughtInLastMonth</th> <td>    0.0003</td> <td> 3.66e-06</td> <td>   89.557</td> <td> 0.000</td> <td>    0.000</td> <td>    0.000</td>\n",
       "</tr>\n",
       "<tr>\n",
       "  <th>category_encoded</th>  <td>   -0.0135</td> <td>    0.000</td> <td> -119.799</td> <td> 0.000</td> <td>   -0.014</td> <td>   -0.013</td>\n",
       "</tr>\n",
       "</table>"
      ],
      "text/latex": [
       "\\begin{center}\n",
       "\\begin{tabular}{lclc}\n",
       "\\toprule\n",
       "\\textbf{Dep. Variable:}    & isBestSeller\\_en & \\textbf{  No. Observations:  } &  1697656    \\\\\n",
       "\\textbf{Model:}            &       GLM        & \\textbf{  Df Residuals:      } &  1697651    \\\\\n",
       "\\textbf{Model Family:}     &     Binomial     & \\textbf{  Df Model:          } &        4    \\\\\n",
       "\\textbf{Link Function:}    &      Logit       & \\textbf{  Scale:             } &    1.0000   \\\\\n",
       "\\textbf{Method:}           &       IRLS       & \\textbf{  Log-Likelihood:    } &       nan   \\\\\n",
       "\\textbf{Date:}             & Tue, 12 Dec 2023 & \\textbf{  Deviance:          } & 1.9787e+05  \\\\\n",
       "\\textbf{Time:}             &     22:53:14     & \\textbf{  Pearson chi2:      } &  4.06e+16   \\\\\n",
       "\\textbf{No. Iterations:}   &        11        & \\textbf{  Pseudo R-squ. (CS):} &      nan    \\\\\n",
       "\\textbf{Covariance Type:}  &    nonrobust     & \\textbf{                     } &             \\\\\n",
       "\\bottomrule\n",
       "\\end{tabular}\n",
       "\\begin{tabular}{lcccccc}\n",
       "                           & \\textbf{coef} & \\textbf{std err} & \\textbf{z} & \\textbf{P$> |$z$|$} & \\textbf{[0.025} & \\textbf{0.975]}  \\\\\n",
       "\\midrule\n",
       "\\textbf{stars}             &      -0.6146  &        0.003     &  -222.716  &         0.000        &       -0.620    &       -0.609     \\\\\n",
       "\\textbf{reviews}           &    5.609e-05  &     1.73e-06     &    32.371  &         0.000        &     5.27e-05    &     5.95e-05     \\\\\n",
       "\\textbf{price}             &      -0.0549  &        0.001     &  -104.543  &         0.000        &       -0.056    &       -0.054     \\\\\n",
       "\\textbf{boughtInLastMonth} &       0.0003  &     3.66e-06     &    89.557  &         0.000        &        0.000    &        0.000     \\\\\n",
       "\\textbf{category\\_encoded} &      -0.0135  &        0.000     &  -119.799  &         0.000        &       -0.014    &       -0.013     \\\\\n",
       "\\bottomrule\n",
       "\\end{tabular}\n",
       "%\\caption{Generalized Linear Model Regression Results}\n",
       "\\end{center}"
      ],
      "text/plain": [
       "<class 'statsmodels.iolib.summary.Summary'>\n",
       "\"\"\"\n",
       "                 Generalized Linear Model Regression Results                  \n",
       "==============================================================================\n",
       "Dep. Variable:        isBestSeller_en   No. Observations:              1697656\n",
       "Model:                            GLM   Df Residuals:                  1697651\n",
       "Model Family:                Binomial   Df Model:                            4\n",
       "Link Function:                  Logit   Scale:                          1.0000\n",
       "Method:                          IRLS   Log-Likelihood:                    nan\n",
       "Date:                Tue, 12 Dec 2023   Deviance:                   1.9787e+05\n",
       "Time:                        22:53:14   Pearson chi2:                 4.06e+16\n",
       "No. Iterations:                    11   Pseudo R-squ. (CS):                nan\n",
       "Covariance Type:            nonrobust                                         \n",
       "=====================================================================================\n",
       "                        coef    std err          z      P>|z|      [0.025      0.975]\n",
       "-------------------------------------------------------------------------------------\n",
       "stars                -0.6146      0.003   -222.716      0.000      -0.620      -0.609\n",
       "reviews            5.609e-05   1.73e-06     32.371      0.000    5.27e-05    5.95e-05\n",
       "price                -0.0549      0.001   -104.543      0.000      -0.056      -0.054\n",
       "boughtInLastMonth     0.0003   3.66e-06     89.557      0.000       0.000       0.000\n",
       "category_encoded     -0.0135      0.000   -119.799      0.000      -0.014      -0.013\n",
       "=====================================================================================\n",
       "\"\"\""
      ]
     },
     "execution_count": 201,
     "metadata": {},
     "output_type": "execute_result"
    }
   ],
   "source": [
    "logit_reg.fit().summary()"
   ]
  },
  {
   "cell_type": "code",
   "execution_count": 202,
   "id": "a148104f",
   "metadata": {},
   "outputs": [
    {
     "data": {
      "text/plain": [
       "0.5408571949244794"
      ]
     },
     "execution_count": 202,
     "metadata": {},
     "output_type": "execute_result"
    }
   ],
   "source": [
    "math.exp(-0.6146)"
   ]
  },
  {
   "cell_type": "code",
   "execution_count": 203,
   "id": "08a924cb",
   "metadata": {},
   "outputs": [],
   "source": [
    "import numpy as np\n",
    "import math\n",
    "\n",
    "def AIC_score(y_true, y_pred, df):\n",
    "    n = len(y_true)\n",
    "    resid = y_true - y_pred\n",
    "    \n",
    "    # Ensure there are no zero residuals\n",
    "    if any(resid == 0):\n",
    "        return float('inf')  # Return infinity for AIC if there are zero residuals\n",
    "    \n",
    "    sse = np.sum(resid ** 2)\n",
    "    constant = n + n * np.log(2 * np.pi)\n",
    "    \n",
    "    try:\n",
    "        return n * math.log(sse / n) + constant + 2 * df\n",
    "    except ValueError as e:\n",
    "        print(f\"Error in AIC calculation: {e}\")\n",
    "        return float('inf')  # Return infinity for AIC if there are issues with the calculation\n",
    "\n",
    "# Rest of your code...\n"
   ]
  },
  {
   "cell_type": "code",
   "execution_count": 205,
   "id": "b5f14a1c",
   "metadata": {},
   "outputs": [
    {
     "name": "stdout",
     "output_type": "stream",
     "text": [
      "intercept  -7.787621950621615\n",
      "          stars   reviews     price  boughtInLastMonth  category_encoded\n",
      "coeff  0.607383  0.000053 -0.002101            0.00031          0.001594\n",
      "\n",
      "AIC: inf\n"
     ]
    }
   ],
   "source": [
    "train_X,valid_X,train_y,valid_y=train_test_split(X,y,test_size=0.4,random_state=1)\n",
    "logit_reg = LogisticRegression(penalty=\"l2\", C=1e42, solver='liblinear')\n",
    "logit_reg.fit(train_X, train_y)\n",
    "\n",
    "#Get intercepts, coefficients, and AIC\n",
    "print('intercept ', logit_reg.intercept_[0])\n",
    "print(pd.DataFrame({'coeff': logit_reg.coef_[0]}, index=X.columns).transpose())\n",
    "print() #Creates a Line space\n",
    "df = len(train_X.columns) + 1\n",
    "print('AIC:', AIC_score(valid_y, logit_reg.predict(valid_X), df))"
   ]
  },
  {
   "cell_type": "code",
   "execution_count": 206,
   "id": "c6122bf8",
   "metadata": {},
   "outputs": [
    {
     "name": "stdout",
     "output_type": "stream",
     "text": [
      "     actual      p(0)      p(1)  predicted\n",
      "221       0  0.993570  0.006430          0\n",
      "932       0  0.992683  0.007317          0\n",
      "276       0  0.988302  0.011698          0\n",
      "703       0  0.991732  0.008268          0\n"
     ]
    }
   ],
   "source": [
    "logit_reg_pred = logit_reg.predict(valid_X)\n",
    "logit_reg_proba = logit_reg.predict_proba(valid_X)\n",
    "logit_result = pd.DataFrame({'actual': valid_y, \n",
    "                             'p(0)': [p[0] for p in logit_reg_proba],\n",
    "                             'p(1)': [p[1] for p in logit_reg_proba],\n",
    "                             'predicted': logit_reg_pred })\n",
    "\n",
    "# display four different cases\n",
    "interestingCases = [221, 932, 276, 703]\n",
    "logit_result_reset = logit_result.reset_index(drop=True)\n",
    "print(logit_result_reset.loc[interestingCases])"
   ]
  },
  {
   "cell_type": "code",
   "execution_count": 207,
   "id": "01147f8d",
   "metadata": {},
   "outputs": [
    {
     "name": "stdout",
     "output_type": "stream",
     "text": [
      "Confusion Matrix (Accuracy 0.9920)\n",
      "\n",
      "       Prediction\n",
      "Actual      0      1\n",
      "     0 673505    251\n",
      "     1   5167    140\n"
     ]
    }
   ],
   "source": [
    "classificationSummary(valid_y,logit_reg.predict(valid_X))"
   ]
  },
  {
   "cell_type": "code",
   "execution_count": 209,
   "id": "f78c51fd",
   "metadata": {},
   "outputs": [
    {
     "name": "stdout",
     "output_type": "stream",
     "text": [
      "Predicted Probabilities: [0.00491454 0.00042076 0.00044815 ... 0.00688514 0.00685714 0.00677295]\n"
     ]
    }
   ],
   "source": [
    "predicted_probs = logit_reg.predict_proba(valid_X)[:, 1]\n",
    "print(\"Predicted Probabilities:\", predicted_probs)\n"
   ]
  },
  {
   "cell_type": "code",
   "execution_count": 210,
   "id": "9c91bfc8",
   "metadata": {},
   "outputs": [
    {
     "name": "stdout",
     "output_type": "stream",
     "text": [
      "Residuals: 28171     -0.004915\n",
      "1433903   -0.000421\n",
      "234073    -0.000448\n",
      "418494    -0.007248\n",
      "751827    -0.009693\n",
      "             ...   \n",
      "1644486   -0.009773\n",
      "1069281   -0.006961\n",
      "1701511   -0.006885\n",
      "632831    -0.006857\n",
      "1393362   -0.006773\n",
      "Name: isBestSeller_en, Length: 679063, dtype: float64\n"
     ]
    }
   ],
   "source": [
    "residuals = valid_y - predicted_probs\n",
    "print(\"Residuals:\", residuals)\n"
   ]
  },
  {
   "cell_type": "code",
   "execution_count": 211,
   "id": "c8c8c943",
   "metadata": {},
   "outputs": [
    {
     "name": "stdout",
     "output_type": "stream",
     "text": [
      "Residuals: 28171     -0.004915\n",
      "1433903   -0.000421\n",
      "234073    -0.000448\n",
      "418494    -0.007248\n",
      "751827    -0.009693\n",
      "             ...   \n",
      "1644486   -0.009773\n",
      "1069281   -0.006961\n",
      "1701511   -0.006885\n",
      "632831    -0.006857\n",
      "1393362   -0.006773\n",
      "Name: isBestSeller_en, Length: 679063, dtype: float64\n",
      "AIC Value: -1380384.9436282134\n"
     ]
    }
   ],
   "source": [
    "def AIC_score_debug(y_true, y_pred, df):\n",
    "    n = len(y_true)\n",
    "    resid = y_true - y_pred\n",
    "    \n",
    "    # Print intermediate values\n",
    "    print(\"Residuals:\", resid)\n",
    "    \n",
    "    sse = np.sum(resid ** 2)\n",
    "    constant = n + n * np.log(2 * np.pi)\n",
    "    \n",
    "    try:\n",
    "        return n * math.log(sse / n) + constant + 2 * df\n",
    "    except ValueError as e:\n",
    "        print(f\"Error in AIC calculation: {e}\")\n",
    "        return float('inf')\n",
    "\n",
    "# Use the modified AIC function\n",
    "aic_value = AIC_score_debug(valid_y, predicted_probs, df=len(train_X.columns) + 1)\n",
    "print(\"AIC Value:\", aic_value)\n"
   ]
  },
  {
   "cell_type": "code",
   "execution_count": 212,
   "id": "6d43e875",
   "metadata": {},
   "outputs": [
    {
     "name": "stdout",
     "output_type": "stream",
     "text": [
      "Residuals: 28171     -0.004915\n",
      "1433903   -0.000421\n",
      "234073    -0.000448\n",
      "418494    -0.007248\n",
      "751827    -0.009693\n",
      "             ...   \n",
      "1644486   -0.009773\n",
      "1069281   -0.006961\n",
      "1701511   -0.006885\n",
      "632831    -0.006857\n",
      "1393362   -0.006773\n",
      "Name: isBestSeller_en, Length: 679063, dtype: float64\n",
      "AIC Value: -1380384.9436282134\n"
     ]
    }
   ],
   "source": [
    "def AIC_score_debug(y_true, y_pred, df):\n",
    "    n = len(y_true)\n",
    "    resid = y_true - y_pred\n",
    "    \n",
    "    # Print intermediate values\n",
    "    print(\"Residuals:\", resid)\n",
    "    \n",
    "    sse = np.sum(resid ** 2)\n",
    "    constant = n + n * np.log(2 * np.pi)\n",
    "    \n",
    "    try:\n",
    "        return n * math.log(sse / n) + constant + 2 * df\n",
    "    except ValueError as e:\n",
    "        print(f\"Error in AIC calculation: {e}\")\n",
    "        return float('inf')\n",
    "\n",
    "# Use the modified AIC function\n",
    "aic_value = AIC_score_debug(valid_y, predicted_probs, df=len(train_X.columns) + 1)\n",
    "print(\"AIC Value:\", aic_value)\n"
   ]
  },
  {
   "cell_type": "code",
   "execution_count": 213,
   "id": "1b7e60fe",
   "metadata": {},
   "outputs": [
    {
     "name": "stdout",
     "output_type": "stream",
     "text": [
      "Coefficients: [ 6.07383115e-01  5.34576929e-05 -2.10080279e-03  3.10012380e-04\n",
      "  1.59412485e-03]\n"
     ]
    }
   ],
   "source": [
    "print(\"Coefficients:\", logit_reg.coef_[0])\n"
   ]
  },
  {
   "cell_type": "code",
   "execution_count": 215,
   "id": "330be851",
   "metadata": {},
   "outputs": [],
   "source": [
    "from sklearn.preprocessing import StandardScaler\n",
    "\n",
    "scaler = StandardScaler()\n",
    "X_train_scaled = scaler.fit_transform(train_X)\n",
    "X_valid_scaled = scaler.transform(valid_X)\n"
   ]
  },
  {
   "cell_type": "code",
   "execution_count": 217,
   "id": "ca1139ca",
   "metadata": {},
   "outputs": [],
   "source": [
    "from sklearn.linear_model import LogisticRegression\n",
    "\n",
    "# Choose the appropriate regularization method and strength (adjust C)\n",
    "logit_reg = LogisticRegression(penalty='l2', solver='liblinear', C=1.0)\n",
    "\n",
    "# Fit the model and make predictions\n",
    "logit_reg.fit(X_train_scaled, train_y)\n",
    "predictions = logit_reg.predict(X_valid_scaled)\n"
   ]
  },
  {
   "cell_type": "code",
   "execution_count": 218,
   "id": "b0f68a8c",
   "metadata": {},
   "outputs": [
    {
     "name": "stdout",
     "output_type": "stream",
     "text": [
      "intercept  -5.181863711534145\n",
      "          stars   reviews     price  boughtInLastMonth  category_encoded\n",
      "coeff  0.828138  0.093326 -0.254186           0.313546          0.114694\n",
      "\n"
     ]
    },
    {
     "ename": "AttributeError",
     "evalue": "'numpy.ndarray' object has no attribute 'columns'",
     "output_type": "error",
     "traceback": [
      "\u001b[1;31m---------------------------------------------------------------------------\u001b[0m",
      "\u001b[1;31mAttributeError\u001b[0m                            Traceback (most recent call last)",
      "Cell \u001b[1;32mIn[218], line 5\u001b[0m\n\u001b[0;32m      3\u001b[0m \u001b[38;5;28mprint\u001b[39m(pd\u001b[38;5;241m.\u001b[39mDataFrame({\u001b[38;5;124m'\u001b[39m\u001b[38;5;124mcoeff\u001b[39m\u001b[38;5;124m'\u001b[39m: logit_reg\u001b[38;5;241m.\u001b[39mcoef_[\u001b[38;5;241m0\u001b[39m]}, index\u001b[38;5;241m=\u001b[39mX\u001b[38;5;241m.\u001b[39mcolumns)\u001b[38;5;241m.\u001b[39mtranspose())\n\u001b[0;32m      4\u001b[0m \u001b[38;5;28mprint\u001b[39m() \u001b[38;5;66;03m#Creates a Line space\u001b[39;00m\n\u001b[1;32m----> 5\u001b[0m df \u001b[38;5;241m=\u001b[39m \u001b[38;5;28mlen\u001b[39m(X_train_scaled\u001b[38;5;241m.\u001b[39mcolumns) \u001b[38;5;241m+\u001b[39m \u001b[38;5;241m1\u001b[39m\n\u001b[0;32m      6\u001b[0m \u001b[38;5;28mprint\u001b[39m(\u001b[38;5;124m'\u001b[39m\u001b[38;5;124mAIC:\u001b[39m\u001b[38;5;124m'\u001b[39m, AIC_score(valid_y, logit_reg\u001b[38;5;241m.\u001b[39mpredict(X_valid_scaled), df))\n",
      "\u001b[1;31mAttributeError\u001b[0m: 'numpy.ndarray' object has no attribute 'columns'"
     ]
    }
   ],
   "source": [
    "#Get intercepts, coefficients, and AIC\n",
    "print('intercept ', logit_reg.intercept_[0])\n",
    "print(pd.DataFrame({'coeff': logit_reg.coef_[0]}, index=X.columns).transpose())\n",
    "print() #Creates a Line space\n",
    "df = len(X_train_scaled.columns) + 1\n",
    "print('AIC:', AIC_score(valid_y, logit_reg.predict(X_valid_scaled), df))"
   ]
  },
  {
   "cell_type": "code",
   "execution_count": 219,
   "id": "1f29b45a",
   "metadata": {},
   "outputs": [
    {
     "name": "stdout",
     "output_type": "stream",
     "text": [
      "AIC: inf\n"
     ]
    }
   ],
   "source": [
    "df = len(X_train_scaled[0]) + 1  # Use the number of features in X_train_scaled\n",
    "aic_value = AIC_score(valid_y, logit_reg.predict(X_valid_scaled), df)\n",
    "print('AIC:', aic_value)"
   ]
  },
  {
   "cell_type": "markdown",
   "id": "19c55f77",
   "metadata": {},
   "source": [
    "# KNN "
   ]
  },
  {
   "cell_type": "code",
   "execution_count": 237,
   "id": "7c1cf1ff",
   "metadata": {},
   "outputs": [
    {
     "name": "stdout",
     "output_type": "stream",
     "text": [
      "<class 'pandas.core.frame.DataFrame'>\n",
      "Int64Index: 1697653 entries, 0 to 1735413\n",
      "Data columns (total 6 columns):\n",
      " #   Column             Dtype  \n",
      "---  ------             -----  \n",
      " 0   stars              float64\n",
      " 1   reviews            int64  \n",
      " 2   price              float64\n",
      " 3   category           object \n",
      " 4   isBestSeller       bool   \n",
      " 5   boughtInLastMonth  int64  \n",
      "dtypes: bool(1), float64(2), int64(2), object(1)\n",
      "memory usage: 79.3+ MB\n"
     ]
    }
   ],
   "source": [
    "amazon_df.info()"
   ]
  },
  {
   "cell_type": "code",
   "execution_count": 239,
   "id": "ed37f390",
   "metadata": {},
   "outputs": [
    {
     "name": "stdout",
     "output_type": "stream",
     "text": [
      "Category Mapping:\n",
      "{'Abrasive & Finishing Products': 0, 'Accessories & Supplies': 1, 'Additive Manufacturing Products': 2, 'Arts & Crafts Supplies': 3, 'Arts Crafts & Sewing Storage': 4, 'Automotive Enthusiast Merchandise': 5, 'Automotive Exterior Accessories': 6, 'Automotive Interior Accessories': 7, 'Automotive Paint & Paint Supplies': 8, 'Automotive Performance Parts & Accessories': 9, 'Automotive Replacement Parts': 10, 'Automotive Tires & Wheels': 11, 'Automotive Tools & Equipment': 12, 'Baby': 13, 'Baby & Child Care Products': 14, 'Baby & Toddler Feeding Supplies': 15, 'Baby & Toddler Toys': 16, 'Baby Activity & Entertainment Products': 17, \"Baby Boys' Clothing & Shoes\": 18, 'Baby Care Products': 19, 'Baby Diapering Products': 20, 'Baby Gifts': 21, \"Baby Girls' Clothing & Shoes\": 22, 'Baby Safety Products': 23, 'Baby Stationery': 24, 'Baby Strollers & Accessories': 25, 'Baby Travel Gear': 26, 'Backpacks': 27, 'Bath Products': 28, 'Beading & Jewelry Making': 29, 'Beauty & Personal Care': 30, 'Beauty Tools & Accessories': 31, 'Bedding': 32, \"Boys' Accessories\": 33, \"Boys' Clothing\": 34, \"Boys' Jewelry\": 35, \"Boys' School Uniforms\": 36, \"Boys' Shoes\": 37, \"Boys' Watches\": 38, 'Building Supplies': 39, 'Building Toys': 40, 'Camera & Photo': 41, 'Car Care': 42, 'Car Electronics & Accessories': 43, 'Cat Supplies': 44, 'Cell Phones & Accessories': 45, 'Child Safety Car Seats & Accessories': 46, 'Commercial Door Products': 47, 'Computer Components': 48, 'Computer External Components': 49, 'Computer Monitors': 50, 'Computer Networking': 51, 'Computer Servers': 52, 'Computers': 53, 'Computers & Tablets': 54, 'Consoles & Accessories': 55, 'Craft & Hobby Fabric': 56, 'Craft Supplies & Materials': 57, 'Cutting Tools': 58, 'Data Storage': 59, 'Diet & Sports Nutrition': 60, 'Dog Supplies': 61, 'Dolls & Accessories': 62, 'Electrical Equipment': 63, 'Electronic Components': 64, 'Fabric Decorating': 65, 'Fasteners': 66, 'Filtration': 67, 'Finger Toys': 68, 'Fish & Aquatic Pets': 69, 'Food Service Equipment & Supplies': 70, 'Foot, Hand & Nail Care Products': 71, 'Furniture': 72, 'GPS & Navigation': 73, 'Games & Accessories': 74, 'Garment Bags': 75, 'Gift Cards': 76, 'Gift Wrapping Supplies': 77, \"Girls' Accessories\": 78, \"Girls' Clothing\": 79, \"Girls' Jewelry\": 80, \"Girls' School Uniforms\": 81, \"Girls' Shoes\": 82, \"Girls' Watches\": 83, 'Hair Care Products': 84, 'Hardware': 85, 'Headphones & Earbuds': 86, 'Health & Household': 87, 'Health Care Products': 88, 'Heating, Cooling & Air Quality': 89, 'Heavy Duty & Commercial Vehicle Equipment': 90, 'Home Appliances': 91, 'Home Audio & Theater Products': 92, 'Home Décor Products': 93, 'Home Lighting & Ceiling Fans': 94, 'Home Storage & Organization': 95, 'Home Use Medical Supplies & Equipment': 96, 'Horse Supplies': 97, 'Household Cleaning Supplies': 98, 'Household Supplies': 99, 'Hydraulics, Pneumatics & Plumbing': 100, 'Industrial & Scientific': 101, 'Industrial Adhesives, Sealants & Lubricants': 102, 'Industrial Hardware': 103, 'Industrial Materials': 104, 'Industrial Power & Hand Tools': 105, 'Ironing Products': 106, 'Janitorial & Sanitation Supplies': 107, \"Kids' Dress Up & Pretend Play\": 108, \"Kids' Electronics\": 109, \"Kids' Furniture\": 110, \"Kids' Home Store\": 111, \"Kids' Party Supplies\": 112, \"Kids' Play Boats\": 113, \"Kids' Play Buses\": 114, \"Kids' Play Cars & Race Cars\": 115, \"Kids' Play Tractors\": 116, \"Kids' Play Trains & Trams\": 117, \"Kids' Play Trucks\": 118, 'Kitchen & Bath Fixtures': 119, 'Kitchen & Dining': 120, 'Knitting & Crochet Supplies': 121, 'Lab & Scientific Products': 122, 'Laptop Accessories': 123, 'Laptop Bags': 124, 'Learning & Education Toys': 125, 'Legacy Systems': 126, 'Light Bulbs': 127, 'Lighting & Ceiling Fans': 128, 'Lights, Bulbs & Indicators': 129, 'Luggage': 130, 'Luggage Sets': 131, 'Mac Games & Accessories': 132, 'Makeup': 133, 'Material Handling Products': 134, 'Measuring & Layout': 135, \"Men's Accessories\": 136, \"Men's Clothing\": 137, \"Men's Shoes\": 138, \"Men's Watches\": 139, 'Messenger Bags': 140, 'Motorcycle & Powersports': 141, 'Needlework Supplies': 142, 'Novelty Toys & Amusements': 143, 'Nursery Furniture, Bedding & Décor': 144, 'Occupational Health & Safety Products': 145, 'Office Electronics': 146, 'Oils & Fluids': 147, 'Online Video Game Services': 148, 'Oral Care Products': 149, 'Outdoor Recreation': 150, 'PC Games & Accessories': 151, 'Packaging & Shipping Supplies': 152, 'Paint, Wall Treatments & Supplies': 153, 'Painting, Drawing & Art Supplies': 154, 'Party Decorations': 155, 'Party Supplies': 156, 'Perfumes & Fragrances': 157, 'Personal Care Products': 158, 'Pet Bird Supplies': 159, 'Portable Audio & Video': 160, 'Power Tools & Hand Tools': 161, 'Power Transmission Products': 162, 'Pregnancy & Maternity Products': 163, 'Printmaking Supplies': 164, 'Professional Dental Supplies': 165, 'Professional Medical Supplies': 166, 'Pumps & Plumbing Equipment': 167, 'Puppets & Puppet Theaters': 168, 'Puzzles': 169, 'RV Parts & Accessories': 170, 'Rain Umbrellas': 171, 'Reptiles & Amphibian Supplies': 172, 'Retail Store Fixtures & Equipment': 173, 'Safety & Security': 174, 'Science Education Supplies': 175, 'Scrapbooking & Stamping Supplies': 176, 'Seasonal Décor': 177, 'Security & Surveillance Equipment': 178, 'Sewing Products': 179, 'Sexual Wellness Products': 180, 'Shaving & Hair Removal Products': 181, 'Skin Care Products': 182, 'Slot Cars, Race Tracks & Accessories': 183, 'Small Animal Supplies': 184, 'Smart Home - Heating & Cooling': 185, 'Smart Home Thermostats - Compatibility Checker': 186, 'Smart Home: Home Entertainment': 187, 'Smart Home: Lawn and Garden': 188, 'Smart Home: Lighting': 189, 'Smart Home: New Smart Devices': 190, 'Smart Home: Other Solutions': 191, 'Smart Home: Plugs and Outlets': 192, 'Smart Home: Security Cameras and Systems': 193, 'Smart Home: Smart Locks and Entry': 194, 'Smart Home: Vacuums and Mops': 195, 'Smart Home: Voice Assistants and Hubs': 196, 'Smart Home: WiFi and Networking': 197, 'Sports & Fitness': 198, 'Sports & Outdoor Play Toys': 199, 'Sports & Outdoors': 200, 'Sports Nutrition Products': 201, 'Stationery & Gift Wrapping Supplies': 202, 'Stuffed Animals & Plush Toys': 203, 'Suitcases': 204, 'Tablet Accessories': 205, 'Tablet Replacement Parts': 206, 'Televisions & Video Products': 207, 'Test, Measure & Inspect': 208, 'Toilet Training Products': 209, 'Tools & Home Improvement': 210, 'Toy Figures & Playsets': 211, 'Toy Vehicle Playsets': 212, 'Toys & Games': 213, 'Travel Accessories': 214, 'Travel Duffel Bags': 215, 'Travel Tote Bags': 216, 'Tricycles, Scooters & Wagons': 217, 'Vacuum Cleaners & Floor Care': 218, 'Vehicle Electronics': 219, 'Video Game Consoles & Accessories': 220, 'Video Games': 221, 'Video Projectors': 222, 'Virtual Reality Hardware & Accessories': 223, 'Vision Products': 224, 'Wall Art': 225, 'Wearable Technology': 226, 'Welding & Soldering': 227, 'Wellness & Relaxation Products': 228, \"Women's Accessories\": 229, \"Women's Clothing\": 230, \"Women's Handbags\": 231, \"Women's Jewelry\": 232, \"Women's Shoes\": 233, \"Women's Watches\": 234, 'eBook Readers & Accessories': 235}\n"
     ]
    }
   ],
   "source": [
    "from sklearn.preprocessing import LabelEncoder\n",
    "\n",
    "# Assuming 'X' is your DataFrame and 'category' is the column you label encoded\n",
    "label_encoder = LabelEncoder()\n",
    "amazon_df['category_encoded'] = label_encoder.fit_transform(amazon_df['category'])\n",
    "\n",
    "\n",
    "# Display the mapping between categories and encoded values\n",
    "category_mapping = dict(zip(label_encoder.classes_, label_encoder.transform(label_encoder.classes_)))\n",
    "print(\"Category Mapping:\")\n",
    "print(category_mapping)"
   ]
  },
  {
   "cell_type": "code",
   "execution_count": 240,
   "id": "fcb578d3",
   "metadata": {},
   "outputs": [
    {
     "data": {
      "text/html": [
       "<div>\n",
       "<style scoped>\n",
       "    .dataframe tbody tr th:only-of-type {\n",
       "        vertical-align: middle;\n",
       "    }\n",
       "\n",
       "    .dataframe tbody tr th {\n",
       "        vertical-align: top;\n",
       "    }\n",
       "\n",
       "    .dataframe thead th {\n",
       "        text-align: right;\n",
       "    }\n",
       "</style>\n",
       "<table border=\"1\" class=\"dataframe\">\n",
       "  <thead>\n",
       "    <tr style=\"text-align: right;\">\n",
       "      <th></th>\n",
       "      <th>stars</th>\n",
       "      <th>reviews</th>\n",
       "      <th>price</th>\n",
       "      <th>isBestSeller</th>\n",
       "      <th>boughtInLastMonth</th>\n",
       "      <th>category_encoded</th>\n",
       "    </tr>\n",
       "  </thead>\n",
       "  <tbody>\n",
       "    <tr>\n",
       "      <th>0</th>\n",
       "      <td>4.5</td>\n",
       "      <td>0</td>\n",
       "      <td>139.99</td>\n",
       "      <td>False</td>\n",
       "      <td>2000</td>\n",
       "      <td>204</td>\n",
       "    </tr>\n",
       "    <tr>\n",
       "      <th>1</th>\n",
       "      <td>4.5</td>\n",
       "      <td>0</td>\n",
       "      <td>169.99</td>\n",
       "      <td>False</td>\n",
       "      <td>1000</td>\n",
       "      <td>204</td>\n",
       "    </tr>\n",
       "    <tr>\n",
       "      <th>2</th>\n",
       "      <td>4.6</td>\n",
       "      <td>0</td>\n",
       "      <td>365.49</td>\n",
       "      <td>False</td>\n",
       "      <td>300</td>\n",
       "      <td>204</td>\n",
       "    </tr>\n",
       "    <tr>\n",
       "      <th>3</th>\n",
       "      <td>4.6</td>\n",
       "      <td>0</td>\n",
       "      <td>291.59</td>\n",
       "      <td>False</td>\n",
       "      <td>400</td>\n",
       "      <td>204</td>\n",
       "    </tr>\n",
       "    <tr>\n",
       "      <th>4</th>\n",
       "      <td>4.5</td>\n",
       "      <td>0</td>\n",
       "      <td>174.99</td>\n",
       "      <td>False</td>\n",
       "      <td>400</td>\n",
       "      <td>204</td>\n",
       "    </tr>\n",
       "  </tbody>\n",
       "</table>\n",
       "</div>"
      ],
      "text/plain": [
       "   stars  reviews   price  isBestSeller  boughtInLastMonth  category_encoded\n",
       "0    4.5        0  139.99         False               2000               204\n",
       "1    4.5        0  169.99         False               1000               204\n",
       "2    4.6        0  365.49         False                300               204\n",
       "3    4.6        0  291.59         False                400               204\n",
       "4    4.5        0  174.99         False                400               204"
      ]
     },
     "execution_count": 240,
     "metadata": {},
     "output_type": "execute_result"
    }
   ],
   "source": [
    "amazon_df = amazon_df.drop('category', axis=1)\n",
    "amazon_df.head()\n"
   ]
  },
  {
   "cell_type": "code",
   "execution_count": 242,
   "id": "9870e008",
   "metadata": {},
   "outputs": [
    {
     "name": "stdout",
     "output_type": "stream",
     "text": [
      "Training   :  (1018592, 6)\n",
      "Validation :  (679061, 6)\n"
     ]
    }
   ],
   "source": [
    "dummydf = pd.get_dummies(amazon_df, drop_first=True)\n",
    "dummydf.head()\n",
    "#Partition the data into train and valid. Make sure you set seed\n",
    "trainData= dummydf.sample(frac=0.6, random_state=2)\n",
    "# assign rows that are not already in the training set, into validation \n",
    "validData = dummydf.drop(trainData.index)\n",
    "\n",
    "print('Training   : ', trainData.shape)\n",
    "print('Validation : ', validData.shape)"
   ]
  },
  {
   "cell_type": "code",
   "execution_count": 243,
   "id": "75ed7678",
   "metadata": {},
   "outputs": [
    {
     "data": {
      "text/plain": [
       "['stars',\n",
       " 'reviews',\n",
       " 'price',\n",
       " 'isBestSeller',\n",
       " 'boughtInLastMonth',\n",
       " 'category_encoded']"
      ]
     },
     "execution_count": 243,
     "metadata": {},
     "output_type": "execute_result"
    }
   ],
   "source": [
    "dummydf.columns.tolist()"
   ]
  },
  {
   "cell_type": "code",
   "execution_count": 246,
   "id": "5fdd93ab",
   "metadata": {},
   "outputs": [
    {
     "name": "stdout",
     "output_type": "stream",
     "text": [
      "           zstars  zreviews    zprice  zboughtInLastMonth  zcategory_encoded  \\\n",
      "0        0.345923 -0.099773  0.774563            1.818644           1.304303   \n",
      "2        0.424624 -0.099773  2.578496            0.107545           1.304303   \n",
      "3        0.424624 -0.099773  1.987318            0.208198           1.304303   \n",
      "4        0.345923 -0.099773  1.054553            0.208198           1.304303   \n",
      "5        0.345923 -0.099773  0.810562            0.308850           1.304303   \n",
      "...           ...       ...       ...                 ...                ...   \n",
      "1697644  0.345923 -0.099773 -0.269398           -0.194414           0.324281   \n",
      "1697645  0.424624 -0.099773 -0.057486           -0.194414           0.324281   \n",
      "1697646 -0.126281 -0.099773 -0.185401           -0.194414           0.324281   \n",
      "1697647  0.109821 -0.099773 -0.225719           -0.194414           0.324281   \n",
      "1697648  0.267223 -0.099773 -0.073405           -0.194414           0.324281   \n",
      "\n",
      "        isBestSeller  \n",
      "0              False  \n",
      "2              False  \n",
      "3              False  \n",
      "4              False  \n",
      "5              False  \n",
      "...              ...  \n",
      "1697644        False  \n",
      "1697645        False  \n",
      "1697646        False  \n",
      "1697647        False  \n",
      "1697648        False  \n",
      "\n",
      "[996280 rows x 6 columns]\n",
      "           zstars  zreviews    zprice  zboughtInLastMonth  zcategory_encoded  \\\n",
      "1        0.345923 -0.099773  1.014554            0.812115           1.304303   \n",
      "6        0.345923 -0.099773  1.014554            0.208198           1.304303   \n",
      "7        0.345923 -0.099773  2.054515           -0.093761           1.304303   \n",
      "8        0.345923 -0.099773  0.555691            0.308850           1.304303   \n",
      "10       0.503324 -0.099773  1.830524           -0.093761           1.304303   \n",
      "...           ...       ...       ...                 ...                ...   \n",
      "1697643 -3.195606 -0.099773 -0.209400           -0.194414           0.324281   \n",
      "1697649 -0.362383 -0.099773 -0.276997           -0.194414           0.324281   \n",
      "1697650  0.345923 -0.099773  0.089549           -0.194414           0.324281   \n",
      "1697651  0.660726 -0.099773 -0.195000           -0.194414           0.324281   \n",
      "1697652 -3.195606 -0.099773 -0.225399           -0.194414           0.324281   \n",
      "\n",
      "        isBestSeller  \n",
      "1              False  \n",
      "6              False  \n",
      "7              False  \n",
      "8              False  \n",
      "10             False  \n",
      "...              ...  \n",
      "1697643        False  \n",
      "1697649        False  \n",
      "1697650        False  \n",
      "1697651        False  \n",
      "1697652        False  \n",
      "\n",
      "[664364 rows x 6 columns]\n"
     ]
    }
   ],
   "source": [
    "scaler = preprocessing.StandardScaler()\n",
    "scaler.fit(trainData[['stars',\n",
    " 'reviews',\n",
    " 'price',\n",
    " 'boughtInLastMonth',\n",
    " 'category_encoded']])\n",
    "\n",
    "amzNorm = pd.DataFrame(scaler.transform(dummydf[['stars',\n",
    " 'reviews',\n",
    " 'price',\n",
    " 'boughtInLastMonth',\n",
    " 'category_encoded']]), \n",
    "                                    columns=['zstars',\n",
    " 'zreviews',\n",
    " 'zprice',\n",
    " 'zboughtInLastMonth',\n",
    " 'zcategory_encoded'])\n",
    "\n",
    "amzNorm['isBestSeller']=dummydf['isBestSeller']\n",
    "\n",
    "# Use iloc with the indices of trainData and validData\n",
    "trainNorm = amzNorm[amzNorm.index.isin(trainData.index)]\n",
    "validNorm = amzNorm[amzNorm.index.isin(validData.index)]\n",
    "\n",
    "print(trainNorm)\n",
    "print(validNorm)\n"
   ]
  },
  {
   "cell_type": "code",
   "execution_count": 248,
   "id": "a814b02e",
   "metadata": {},
   "outputs": [
    {
     "data": {
      "text/html": [
       "<div>\n",
       "<style scoped>\n",
       "    .dataframe tbody tr th:only-of-type {\n",
       "        vertical-align: middle;\n",
       "    }\n",
       "\n",
       "    .dataframe tbody tr th {\n",
       "        vertical-align: top;\n",
       "    }\n",
       "\n",
       "    .dataframe thead th {\n",
       "        text-align: right;\n",
       "    }\n",
       "</style>\n",
       "<table border=\"1\" class=\"dataframe\">\n",
       "  <thead>\n",
       "    <tr style=\"text-align: right;\">\n",
       "      <th></th>\n",
       "      <th>stars</th>\n",
       "      <th>reviews</th>\n",
       "      <th>price</th>\n",
       "      <th>boughtInLastMonth</th>\n",
       "      <th>category_encoded</th>\n",
       "    </tr>\n",
       "  </thead>\n",
       "  <tbody>\n",
       "    <tr>\n",
       "      <th>0</th>\n",
       "      <td>5</td>\n",
       "      <td>56</td>\n",
       "      <td>47</td>\n",
       "      <td>6789</td>\n",
       "      <td>79</td>\n",
       "    </tr>\n",
       "  </tbody>\n",
       "</table>\n",
       "</div>"
      ],
      "text/plain": [
       "   stars  reviews  price  boughtInLastMonth  category_encoded\n",
       "0      5       56     47               6789                79"
      ]
     },
     "execution_count": 248,
     "metadata": {},
     "output_type": "execute_result"
    }
   ],
   "source": [
    "newprod = pd.DataFrame([{'stars':5, 'reviews':56, 'price':47,'boughtInLastMonth':6789,\n",
    "       'category_encoded':79}])\n",
    "newprod"
   ]
  },
  {
   "cell_type": "code",
   "execution_count": 247,
   "id": "cc47f5b8",
   "metadata": {},
   "outputs": [
    {
     "data": {
      "text/plain": [
       "Index(['stars', 'reviews', 'price', 'isBestSeller', 'boughtInLastMonth',\n",
       "       'category_encoded'],\n",
       "      dtype='object')"
      ]
     },
     "execution_count": 247,
     "metadata": {},
     "output_type": "execute_result"
    }
   ],
   "source": [
    "amazon_df.columns"
   ]
  },
  {
   "cell_type": "code",
   "execution_count": 249,
   "id": "680b6a1f",
   "metadata": {},
   "outputs": [
    {
     "data": {
      "text/html": [
       "<div>\n",
       "<style scoped>\n",
       "    .dataframe tbody tr th:only-of-type {\n",
       "        vertical-align: middle;\n",
       "    }\n",
       "\n",
       "    .dataframe tbody tr th {\n",
       "        vertical-align: top;\n",
       "    }\n",
       "\n",
       "    .dataframe thead th {\n",
       "        text-align: right;\n",
       "    }\n",
       "</style>\n",
       "<table border=\"1\" class=\"dataframe\">\n",
       "  <thead>\n",
       "    <tr style=\"text-align: right;\">\n",
       "      <th></th>\n",
       "      <th>zstars</th>\n",
       "      <th>zreviews</th>\n",
       "      <th>zprice</th>\n",
       "      <th>zboughtInLastMonth</th>\n",
       "      <th>zcategory_encoded</th>\n",
       "    </tr>\n",
       "  </thead>\n",
       "  <tbody>\n",
       "    <tr>\n",
       "      <th>0</th>\n",
       "      <td>0.739426</td>\n",
       "      <td>-0.06824</td>\n",
       "      <td>0.030671</td>\n",
       "      <td>6.638912</td>\n",
       "      <td>-0.497208</td>\n",
       "    </tr>\n",
       "  </tbody>\n",
       "</table>\n",
       "</div>"
      ],
      "text/plain": [
       "     zstars  zreviews    zprice  zboughtInLastMonth  zcategory_encoded\n",
       "0  0.739426  -0.06824  0.030671            6.638912          -0.497208"
      ]
     },
     "execution_count": 249,
     "metadata": {},
     "output_type": "execute_result"
    }
   ],
   "source": [
    "newNorm=pd.DataFrame(scaler.transform(newprod[['stars', 'reviews', 'price','boughtInLastMonth',\n",
    "       'category_encoded']]), \n",
    "                                    columns=['zstars', 'zreviews', 'zprice','zboughtInLastMonth',\n",
    "       'zcategory_encoded'])\n",
    "newNorm"
   ]
  },
  {
   "cell_type": "code",
   "execution_count": 253,
   "id": "bb8a2702",
   "metadata": {},
   "outputs": [
    {
     "data": {
      "text/plain": [
       "dtype('O')"
      ]
     },
     "execution_count": 253,
     "metadata": {},
     "output_type": "execute_result"
    }
   ],
   "source": [
    "trainNorm['isBestSeller'].dtype"
   ]
  },
  {
   "cell_type": "code",
   "execution_count": 254,
   "id": "08a33c94",
   "metadata": {},
   "outputs": [
    {
     "name": "stderr",
     "output_type": "stream",
     "text": [
      "C:\\Users\\meeta\\AppData\\Local\\Temp\\ipykernel_9736\\1883161794.py:1: SettingWithCopyWarning: \n",
      "A value is trying to be set on a copy of a slice from a DataFrame.\n",
      "Try using .loc[row_indexer,col_indexer] = value instead\n",
      "\n",
      "See the caveats in the documentation: https://pandas.pydata.org/pandas-docs/stable/user_guide/indexing.html#returning-a-view-versus-a-copy\n",
      "  trainNorm['isBestSeller'] = trainNorm['isBestSeller'].map({'TRUE': True, 'FALSE': False})\n",
      "C:\\Users\\meeta\\AppData\\Local\\Temp\\ipykernel_9736\\1883161794.py:2: SettingWithCopyWarning: \n",
      "A value is trying to be set on a copy of a slice from a DataFrame.\n",
      "Try using .loc[row_indexer,col_indexer] = value instead\n",
      "\n",
      "See the caveats in the documentation: https://pandas.pydata.org/pandas-docs/stable/user_guide/indexing.html#returning-a-view-versus-a-copy\n",
      "  trainNorm['isBestSeller'] = trainNorm['isBestSeller'].astype(bool)\n"
     ]
    }
   ],
   "source": [
    "trainNorm['isBestSeller'] = trainNorm['isBestSeller'].map({'TRUE': True, 'FALSE': False})\n",
    "trainNorm['isBestSeller'] = trainNorm['isBestSeller'].astype(bool)\n"
   ]
  },
  {
   "cell_type": "code",
   "execution_count": 255,
   "id": "88f62915",
   "metadata": {},
   "outputs": [
    {
     "name": "stdout",
     "output_type": "stream",
     "text": [
      "bool\n"
     ]
    }
   ],
   "source": [
    "print(trainNorm['isBestSeller'].dtype)\n"
   ]
  },
  {
   "cell_type": "code",
   "execution_count": 256,
   "id": "648ae4d6",
   "metadata": {},
   "outputs": [
    {
     "name": "stdout",
     "output_type": "stream",
     "text": [
      "[ True]\n",
      "Distances [[0.27604525 0.29441956 0.34324157]]\n",
      "Indices [[234374 465775 219875]]\n",
      "          zstars  zreviews    zprice  zboughtInLastMonth  zcategory_encoded  \\\n",
      "400068  0.582025 -0.099773  0.042271             6.85129          -0.569269   \n",
      "795036  0.582025 -0.099773  0.133707             6.85129          -0.569269   \n",
      "375407  0.582025 -0.099773 -0.152762             6.85129          -0.381912   \n",
      "\n",
      "        isBestSeller  \n",
      "400068          True  \n",
      "795036          True  \n",
      "375407          True  \n"
     ]
    }
   ],
   "source": [
    "knn = KNeighborsClassifier(n_neighbors=3).fit(trainNorm[['zstars', 'zreviews', 'zprice','zboughtInLastMonth',\n",
    "       'zcategory_encoded']], trainNorm['isBestSeller'])\n",
    "distances, indices = knn.kneighbors(newNorm)\n",
    "print(knn.predict(newNorm))\n",
    "print('Distances',distances)\n",
    "print('Indices', indices)\n",
    "print(trainNorm.iloc[indices[0], :])"
   ]
  },
  {
   "cell_type": "code",
   "execution_count": 258,
   "id": "fcabf766",
   "metadata": {},
   "outputs": [
    {
     "data": {
      "text/plain": [
       "array([ True,  True,  True, ...,  True,  True,  True])"
      ]
     },
     "execution_count": 258,
     "metadata": {},
     "output_type": "execute_result"
    }
   ],
   "source": [
    "#Try using knn for valid dataset\n",
    "knn.kneighbors(validNorm[['zstars', 'zreviews', 'zprice','zboughtInLastMonth',\n",
    "       'zcategory_encoded']])\n",
    "knn.predict(validNorm[['zstars', 'zreviews', 'zprice','zboughtInLastMonth',\n",
    "       'zcategory_encoded']])"
   ]
  },
  {
   "cell_type": "code",
   "execution_count": 259,
   "id": "5c9fe655",
   "metadata": {},
   "outputs": [],
   "source": [
    "train_X=trainNorm[['zstars', 'zreviews', 'zprice','zboughtInLastMonth','zcategory_encoded']]\n",
    "train_y = trainNorm['isBestSeller']\n",
    "valid_X =validNorm[['zstars', 'zreviews', 'zprice','zboughtInLastMonth','zcategory_encoded']]\n",
    "valid_y = validNorm['isBestSeller']"
   ]
  },
  {
   "cell_type": "code",
   "execution_count": 260,
   "id": "5cd5b938",
   "metadata": {},
   "outputs": [],
   "source": [
    "import numpy as np\n",
    "import pandas as pd\n",
    "\n",
    "# Convert to numpy arrays if not already\n",
    "train_X = np.array(train_X)\n",
    "train_y = np.array(train_y)\n",
    "valid_X = np.array(valid_X)\n",
    "valid_y = np.array(valid_y)"
   ]
  },
  {
   "cell_type": "code",
   "execution_count": 272,
   "id": "b90ee44a",
   "metadata": {},
   "outputs": [
    {
     "name": "stdout",
     "output_type": "stream",
     "text": [
      "   k  accuracy\n",
      "0  1  0.008026\n",
      "1  2  0.008026\n",
      "2  3  0.008026\n",
      "3  4  0.008026\n",
      "4  5  0.008026\n",
      "5  6  0.008026\n",
      "6  7  0.008026\n",
      "7  8  0.008026\n",
      "8  9  0.008026\n"
     ]
    }
   ],
   "source": [
    "results = []\n",
    "for k in range(1, 10):\n",
    "    knn = KNeighborsClassifier(n_neighbors=k).fit(train_X, train_y)\n",
    "    results.append({\n",
    "        'k': k,\n",
    "        'accuracy': accuracy_score(valid_y, knn.predict(valid_X))\n",
    "    })\n",
    "\n",
    "# Convert results to a pandas data frame\n",
    "results = pd.DataFrame(results)\n",
    "print(results)"
   ]
  },
  {
   "cell_type": "code",
   "execution_count": 263,
   "id": "905052f0",
   "metadata": {},
   "outputs": [
    {
     "name": "stdout",
     "output_type": "stream",
     "text": [
      "Datatype of valid_y: object\n"
     ]
    }
   ],
   "source": [
    "print(\"Datatype of valid_y:\", valid_y.dtype)"
   ]
  },
  {
   "cell_type": "code",
   "execution_count": 264,
   "id": "cfb66df2",
   "metadata": {},
   "outputs": [
    {
     "data": {
      "text/plain": [
       "array([False, False, False, ..., False, False, False], dtype=object)"
      ]
     },
     "execution_count": 264,
     "metadata": {},
     "output_type": "execute_result"
    }
   ],
   "source": [
    "valid_y"
   ]
  },
  {
   "cell_type": "code",
   "execution_count": 270,
   "id": "b5c08eab",
   "metadata": {},
   "outputs": [
    {
     "data": {
      "text/plain": [
       "dtype('bool')"
      ]
     },
     "execution_count": 270,
     "metadata": {},
     "output_type": "execute_result"
    }
   ],
   "source": [
    "valid_y = valid_y.astype(bool)\n",
    "valid_y.dtype"
   ]
  },
  {
   "cell_type": "code",
   "execution_count": 273,
   "id": "99747d89",
   "metadata": {},
   "outputs": [
    {
     "ename": "NameError",
     "evalue": "name 'predicted_labels' is not defined",
     "output_type": "error",
     "traceback": [
      "\u001b[1;31m---------------------------------------------------------------------------\u001b[0m",
      "\u001b[1;31mNameError\u001b[0m                                 Traceback (most recent call last)",
      "Cell \u001b[1;32mIn[273], line 4\u001b[0m\n\u001b[0;32m      1\u001b[0m \u001b[38;5;28;01mfrom\u001b[39;00m \u001b[38;5;21;01msklearn\u001b[39;00m\u001b[38;5;21;01m.\u001b[39;00m\u001b[38;5;21;01mmetrics\u001b[39;00m \u001b[38;5;28;01mimport\u001b[39;00m accuracy_score, precision_score, recall_score, f1_score\n\u001b[0;32m      3\u001b[0m \u001b[38;5;66;03m# Calculate individual metrics\u001b[39;00m\n\u001b[1;32m----> 4\u001b[0m accuracy \u001b[38;5;241m=\u001b[39m accuracy_score(valid_y, predicted_labels)\n\u001b[0;32m      5\u001b[0m precision \u001b[38;5;241m=\u001b[39m precision_score(valid_y, predicted_labels)\n\u001b[0;32m      6\u001b[0m recall \u001b[38;5;241m=\u001b[39m recall_score(valid_y, predicted_labels)\n",
      "\u001b[1;31mNameError\u001b[0m: name 'predicted_labels' is not defined"
     ]
    }
   ],
   "source": [
    "from sklearn.metrics import accuracy_score, precision_score, recall_score, f1_score\n",
    "\n",
    "# Calculate individual metrics\n",
    "accuracy = accuracy_score(valid_y, predicted_labels)\n",
    "precision = precision_score(valid_y, predicted_labels)\n",
    "recall = recall_score(valid_y, predicted_labels)\n",
    "f1 = f1_score(valid_y, predicted_labels)\n",
    "\n",
    "# Print the individual metrics\n",
    "print(\"Accuracy:\", accuracy)\n",
    "print(\"Precision:\", precision)\n",
    "print(\"Recall:\", recall)\n",
    "print(\"F1 Score:\", f1)\n"
   ]
  },
  {
   "cell_type": "code",
   "execution_count": 4,
   "id": "e922ac64",
   "metadata": {},
   "outputs": [
    {
     "name": "stdout",
     "output_type": "stream",
     "text": [
      "0    False\n",
      "1    False\n",
      "2    False\n",
      "3    False\n",
      "Name: val, dtype: bool\n"
     ]
    }
   ],
   "source": [
    "print(df.val == np.nan)"
   ]
  },
  {
   "cell_type": "code",
   "execution_count": 3,
   "id": "5f1e8dce",
   "metadata": {},
   "outputs": [],
   "source": [
    "import numpy as np\n",
    "import pandas as pd\n",
    "df=pd.DataFrame({'Id':[1,2,3,4],'val':[2,5,np.nan,6]})"
   ]
  },
  {
   "cell_type": "code",
   "execution_count": null,
   "id": "f8c3097f",
   "metadata": {},
   "outputs": [],
   "source": []
  },
  {
   "cell_type": "code",
   "execution_count": null,
   "id": "c0593d38",
   "metadata": {},
   "outputs": [],
   "source": [
    "df=pd."
   ]
  }
 ],
 "metadata": {
  "kernelspec": {
   "display_name": "Python 3 (ipykernel)",
   "language": "python",
   "name": "python3"
  },
  "language_info": {
   "codemirror_mode": {
    "name": "ipython",
    "version": 3
   },
   "file_extension": ".py",
   "mimetype": "text/x-python",
   "name": "python",
   "nbconvert_exporter": "python",
   "pygments_lexer": "ipython3",
   "version": "3.11.4"
  }
 },
 "nbformat": 4,
 "nbformat_minor": 5
}
